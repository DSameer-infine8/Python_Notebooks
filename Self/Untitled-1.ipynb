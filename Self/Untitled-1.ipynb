{
 "cells": [
  {
   "cell_type": "markdown",
   "id": "70f94e5d",
   "metadata": {},
   "source": [
    "## Built-in Data Types\n",
    "\n",
    "### Python has the following data types built-in by default, in these categories:\n",
    "- Text Type: \tstr\n",
    "- Numeric Types: \tint, float, complex\n",
    "- Sequence Types: \tlist, tuple, range\n",
    "- Mapping Type: \tdict\n",
    "- Set Types: \tset, frozenset\n",
    "- Boolean Type: \tbool\n",
    "- Binary Types: \tbytes, bytearray, memoryview\n",
    "- None Type: \tNoneType"
   ]
  },
  {
   "cell_type": "markdown",
   "id": "6a4e9a7e",
   "metadata": {},
   "source": [
    "### Examples"
   ]
  },
  {
   "cell_type": "code",
   "execution_count": 2,
   "id": "c90de654",
   "metadata": {},
   "outputs": [
    {
     "name": "stdout",
     "output_type": "stream",
     "text": [
      "Hello World\n",
      "<class 'str'>\n"
     ]
    }
   ],
   "source": [
    "x = \"Hello World\"\n",
    "print(x)\n",
    "print(type(x)) "
   ]
  },
  {
   "cell_type": "code",
   "execution_count": 3,
   "id": "dce6dae0",
   "metadata": {},
   "outputs": [
    {
     "name": "stdout",
     "output_type": "stream",
     "text": [
      "20\n",
      "<class 'int'>\n"
     ]
    }
   ],
   "source": [
    "x = 20\n",
    "print(x)\n",
    "print(type(x)) "
   ]
  },
  {
   "cell_type": "code",
   "execution_count": 4,
   "id": "20b24b6b",
   "metadata": {},
   "outputs": [
    {
     "name": "stdout",
     "output_type": "stream",
     "text": [
      "20.5\n",
      "<class 'float'>\n"
     ]
    }
   ],
   "source": [
    "x = 20.5\n",
    "print(x)\n",
    "print(type(x)) "
   ]
  },
  {
   "cell_type": "code",
   "execution_count": 5,
   "id": "27597414",
   "metadata": {},
   "outputs": [
    {
     "name": "stdout",
     "output_type": "stream",
     "text": [
      "1j\n",
      "<class 'complex'>\n"
     ]
    }
   ],
   "source": [
    "x = 1j\n",
    "print(x)\n",
    "print(type(x)) "
   ]
  },
  {
   "cell_type": "code",
   "execution_count": 6,
   "id": "a67cef6c",
   "metadata": {},
   "outputs": [
    {
     "name": "stdout",
     "output_type": "stream",
     "text": [
      "['apple', 'banana', 'cherry']\n",
      "<class 'list'>\n"
     ]
    }
   ],
   "source": [
    "x = [\"apple\", \"banana\", \"cherry\"]\n",
    "print(x)\n",
    "print(type(x)) "
   ]
  },
  {
   "cell_type": "code",
   "execution_count": 7,
   "id": "4ceb979c",
   "metadata": {},
   "outputs": [
    {
     "name": "stdout",
     "output_type": "stream",
     "text": [
      "('apple', 'banana', 'cherry')\n",
      "<class 'tuple'>\n"
     ]
    }
   ],
   "source": [
    "x = (\"apple\", \"banana\", \"cherry\")\n",
    "print(x)\n",
    "print(type(x)) "
   ]
  },
  {
   "cell_type": "code",
   "execution_count": 8,
   "id": "0cba96cc",
   "metadata": {},
   "outputs": [
    {
     "name": "stdout",
     "output_type": "stream",
     "text": [
      "('apple', 'banana', 'cherry')\n",
      "<class 'tuple'>\n"
     ]
    }
   ],
   "source": [
    "x = (\"apple\", \"banana\", \"cherry\")\n",
    "print(x)\n",
    "print(type(x)) "
   ]
  },
  {
   "cell_type": "code",
   "execution_count": 9,
   "id": "78a0acdb",
   "metadata": {},
   "outputs": [
    {
     "name": "stdout",
     "output_type": "stream",
     "text": [
      "{'name': 'John', 'age': 36}\n",
      "<class 'dict'>\n"
     ]
    }
   ],
   "source": [
    "x = {\"name\" : \"John\", \"age\" : 36}\n",
    "print(x)\n",
    "print(type(x)) "
   ]
  },
  {
   "cell_type": "code",
   "execution_count": 10,
   "id": "2d137c24",
   "metadata": {},
   "outputs": [
    {
     "name": "stdout",
     "output_type": "stream",
     "text": [
      "{'banana', 'cherry', 'apple'}\n",
      "<class 'set'>\n"
     ]
    }
   ],
   "source": [
    "x = {\"apple\", \"banana\", \"cherry\"}\n",
    "print(x)\n",
    "print(type(x)) "
   ]
  },
  {
   "cell_type": "code",
   "execution_count": 11,
   "id": "bbd770ab",
   "metadata": {},
   "outputs": [
    {
     "name": "stdout",
     "output_type": "stream",
     "text": [
      "frozenset({'banana', 'cherry', 'apple'})\n",
      "<class 'frozenset'>\n"
     ]
    }
   ],
   "source": [
    "x = frozenset({\"apple\", \"banana\", \"cherry\"})\n",
    "print(x)\n",
    "print(type(x)) "
   ]
  },
  {
   "cell_type": "code",
   "execution_count": 12,
   "id": "33a38c51",
   "metadata": {},
   "outputs": [
    {
     "name": "stdout",
     "output_type": "stream",
     "text": [
      "True\n",
      "<class 'bool'>\n"
     ]
    }
   ],
   "source": [
    "x = True\n",
    "print(x)\n",
    "print(type(x)) "
   ]
  },
  {
   "cell_type": "code",
   "execution_count": 13,
   "id": "f1576db2",
   "metadata": {},
   "outputs": [
    {
     "name": "stdout",
     "output_type": "stream",
     "text": [
      "b'Hello'\n",
      "<class 'bytes'>\n"
     ]
    }
   ],
   "source": [
    "x = b\"Hello\"\n",
    "print(x)\n",
    "print(type(x)) \n"
   ]
  },
  {
   "cell_type": "code",
   "execution_count": 14,
   "id": "e8086566",
   "metadata": {},
   "outputs": [
    {
     "name": "stdout",
     "output_type": "stream",
     "text": [
      "bytearray(b'\\x00\\x00\\x00\\x00\\x00')\n",
      "<class 'bytearray'>\n"
     ]
    }
   ],
   "source": [
    "x = bytearray(5)\n",
    "print(x)\n",
    "print(type(x)) \n"
   ]
  },
  {
   "cell_type": "code",
   "execution_count": 15,
   "id": "36ea0da8",
   "metadata": {},
   "outputs": [
    {
     "name": "stdout",
     "output_type": "stream",
     "text": [
      "<memory at 0x000001896D32DF00>\n",
      "<class 'memoryview'>\n"
     ]
    }
   ],
   "source": [
    "x = memoryview(bytes(5))\n",
    "print(x)\n",
    "print(type(x)) \n"
   ]
  },
  {
   "cell_type": "code",
   "execution_count": 16,
   "id": "2ca3eb3c",
   "metadata": {},
   "outputs": [
    {
     "name": "stdout",
     "output_type": "stream",
     "text": [
      "None\n",
      "<class 'NoneType'>\n"
     ]
    }
   ],
   "source": [
    "x = None\n",
    "print(x)\n",
    "print(type(x)) \n"
   ]
  },
  {
   "cell_type": "code",
   "execution_count": 19,
   "id": "c416ab30",
   "metadata": {},
   "outputs": [
    {
     "name": "stdout",
     "output_type": "stream",
     "text": [
      "\n",
      "None\n"
     ]
    }
   ],
   "source": [
    "print(print())"
   ]
  },
  {
   "cell_type": "markdown",
   "id": "4c4d3898",
   "metadata": {},
   "source": [
    "## Python Operators\n",
    "\n",
    "### Python divides the operators in the following groups:\n",
    "\n",
    "   - Arithmetic operators\n",
    "   - Assignment operators\n",
    "   - Comparison operators\n",
    "   - Logical operators\n",
    "   - Identity operators\n",
    "   - Membership operators\n",
    "   - Bitwise operators\n"
   ]
  },
  {
   "cell_type": "code",
   "execution_count": null,
   "id": "79ce5f73",
   "metadata": {},
   "outputs": [
    {
     "name": "stdout",
     "output_type": "stream",
     "text": [
      "10\n",
      "2\n",
      "24\n",
      "1.5\n",
      "2\n",
      "1296\n",
      "1\n"
     ]
    }
   ],
   "source": [
    "#Arithmetic Operators\n",
    "\n",
    "x,y = 6,4\n",
    "\n",
    "print(x+y)\n",
    "print(x-y)\n",
    "print(x*y)\n",
    "print(x/y)\n",
    "print(x%y)\n",
    "print(x**y)\n",
    "print(x//y)  #Floor division"
   ]
  },
  {
   "cell_type": "code",
   "execution_count": 33,
   "id": "2f6faf1e",
   "metadata": {},
   "outputs": [
    {
     "name": "stdout",
     "output_type": "stream",
     "text": [
      "11\n",
      "8\n",
      "24\n",
      "8.0\n",
      "2.0\n",
      "2\n",
      "8\n",
      "0\n",
      "3\n",
      "0\n",
      "0\n",
      "0\n",
      "3\n"
     ]
    }
   ],
   "source": [
    "#Assignment Operators\n",
    "\n",
    "x=8\n",
    "\n",
    "x+=3\n",
    "print(x)\n",
    "\n",
    "x-=3\n",
    "print(x)\n",
    "\n",
    "x*=3\n",
    "print(x)\n",
    "\n",
    "x/=3\n",
    "print(x)\n",
    "\n",
    "x%=3\n",
    "print(x)\n",
    "\n",
    "x=8\n",
    "x//=3\n",
    "print(x)\n",
    "\n",
    "x**=3\n",
    "print(x)\n",
    "\n",
    "x=8\n",
    "\n",
    "x &= 3\n",
    "print(x)\n",
    "\n",
    "x |= 3\n",
    "print(x)\n",
    "\n",
    "x ^= 3\n",
    "print(x)\n",
    "\n",
    "x >>= 3\n",
    "print(x)\n",
    "\n",
    "x <<= 3\n",
    "print(x)\n",
    "\n",
    "print(x := 3)"
   ]
  },
  {
   "cell_type": "code",
   "execution_count": null,
   "id": "5b4ad434",
   "metadata": {},
   "outputs": [],
   "source": [
    "# Comparison Operators\n",
    "\n",
    "'''   \n",
    "Operator \tName \t        Example\n",
    "==      \tEqual \t                    x == y \t\n",
    "!= \t        Not equal    \t            x != y \t\n",
    "> \t        Greater than             \tx > y \t\n",
    "< \t        Less than \t                x < y \t\n",
    ">=        \tGreater than or equal to \tx >= y \t\n",
    "<=      \tLess than or equal to      \tx <= y\n",
    "'''"
   ]
  },
  {
   "cell_type": "code",
   "execution_count": null,
   "id": "49f6ee4b",
   "metadata": {},
   "outputs": [],
   "source": [
    "#Logical Operators\n",
    "'''\n",
    "Operator \tDescription \t                                          Example \t\n",
    "- and   \tReturns True if both statements are true       \t          x < 5 and  x < 10 \t\n",
    "- or \t    Returns True if one of the statements is true \t          x < 5 or x < 4 \t\n",
    "- not \t    Reverse the result, returns False if the result is true   not(x < 5 and x < 10)\n",
    "'''"
   ]
  },
  {
   "cell_type": "code",
   "execution_count": null,
   "id": "8c78b252",
   "metadata": {},
   "outputs": [],
   "source": [
    "#Identity Operators\n",
    "'''\n",
    "Operator \tDescription \t                                            Example\n",
    "is  \t    Returns True if both variables are the same object \t        x is y \t\n",
    "is not \t    Returns True if both variables are not the same object \t    x is not y\n",
    "\n",
    "'''"
   ]
  },
  {
   "cell_type": "code",
   "execution_count": null,
   "id": "9d871027",
   "metadata": {},
   "outputs": [],
   "source": [
    "#Membership Operators\n",
    "\n",
    "'''\n",
    "Operator  \tDescription \t                                                                   Example \n",
    "in  \t    Returns True if a sequence with the specified value is present in the object \t   x in y \t\n",
    "not in    \tReturns True if a sequence with the specified value is not present in the object   x not in y\n",
    "'''"
   ]
  },
  {
   "cell_type": "code",
   "execution_count": null,
   "id": "621fea86",
   "metadata": {},
   "outputs": [],
   "source": [
    "#Bitwise Operators\n",
    "'''\n",
    "Operator     \tName \t                   Description \t                                                                                              Example \n",
    "&  \t            AND \t                   Sets each bit to 1 if both bits are 1                                                                      x & y \t\n",
    "| \t            OR \t                       Sets each bit to 1 if one of two bits is 1 \t                                                              x | y \t\n",
    "^ \t            XOR \t                   Sets each bit to 1 if only one of two bits is 1 \t                                                          x ^ y \t\n",
    "~ \t            NOT \t                   Inverts all the bits \t                                                                                  ~x \t\n",
    "<<          \tZero fill left shift \t   Shift left by pushing zeros in from the right and let the leftmost bits fall off \t                      x << 2 \t\n",
    ">>          \tSigned right shift \t       Shift right by pushing copies of the leftmost bit in from the left, and let the rightmost bits fall off \t  x >> 2\n",
    "'''"
   ]
  },
  {
   "cell_type": "code",
   "execution_count": 35,
   "id": "9f5d7055",
   "metadata": {},
   "outputs": [
    {
     "name": "stdout",
     "output_type": "stream",
     "text": [
      "False\n"
     ]
    }
   ],
   "source": [
    "a = True\n",
    "print(not(a))"
   ]
  },
  {
   "cell_type": "code",
   "execution_count": 39,
   "id": "cc911d8d",
   "metadata": {},
   "outputs": [
    {
     "name": "stdout",
     "output_type": "stream",
     "text": [
      "['kiwi', 'banana', 'cherry']\n"
     ]
    }
   ],
   "source": [
    "mylist = ['apple', 'banana', 'cherry']\n",
    "mylist[0] = 'kiwi'\n",
    "print(mylist)"
   ]
  },
  {
   "cell_type": "code",
   "execution_count": 40,
   "id": "387b1b0d",
   "metadata": {},
   "outputs": [
    {
     "name": "stdout",
     "output_type": "stream",
     "text": [
      "['apple', 'kiwi', 'mango', 'cherry']\n"
     ]
    }
   ],
   "source": [
    "mylist = ['apple', 'banana', 'cherry']\n",
    "mylist[1:2] = ['kiwi', 'mango']\n",
    "print(mylist)"
   ]
  }
 ],
 "metadata": {
  "kernelspec": {
   "display_name": "base",
   "language": "python",
   "name": "python3"
  },
  "language_info": {
   "codemirror_mode": {
    "name": "ipython",
    "version": 3
   },
   "file_extension": ".py",
   "mimetype": "text/x-python",
   "name": "python",
   "nbconvert_exporter": "python",
   "pygments_lexer": "ipython3",
   "version": "3.11.7"
  }
 },
 "nbformat": 4,
 "nbformat_minor": 5
}
