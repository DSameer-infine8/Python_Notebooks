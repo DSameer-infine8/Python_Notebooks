{
 "cells": [
  {
   "cell_type": "markdown",
   "id": "e48def95-1d01-4e79-bd4b-98ed8b502abb",
   "metadata": {},
   "source": [
    "# Day-1"
   ]
  },
  {
   "cell_type": "markdown",
   "id": "c88e0e69-51cc-4113-8e8c-96c43ba5df1d",
   "metadata": {},
   "source": [
    "- setting-up our own environment for different projects."
   ]
  },
  {
   "cell_type": "code",
   "execution_count": 1,
   "id": "d2d8a481-f65c-449e-9701-d5d3274ae9ac",
   "metadata": {},
   "outputs": [
    {
     "name": "stdout",
     "output_type": "stream",
     "text": [
      "Hello,World\n"
     ]
    }
   ],
   "source": [
    "print(\"Hello,World\")"
   ]
  },
  {
   "cell_type": "markdown",
   "id": "8d08d3d2-5c45-4cd0-b413-0593f3fd06a1",
   "metadata": {},
   "source": [
    "## PYTHON\n",
    "- It is Case Sensitive"
   ]
  },
  {
   "cell_type": "code",
   "execution_count": 2,
   "id": "653002c6-366a-4ebe-942a-42200dfce488",
   "metadata": {},
   "outputs": [
    {
     "data": {
      "text/plain": [
       "83"
      ]
     },
     "execution_count": 2,
     "metadata": {},
     "output_type": "execute_result"
    }
   ],
   "source": [
    "ord('S')"
   ]
  },
  {
   "cell_type": "code",
   "execution_count": 3,
   "id": "aaf57dbd-3b7e-44c0-91ff-0cfe5fe01fa7",
   "metadata": {},
   "outputs": [
    {
     "data": {
      "text/plain": [
       "115"
      ]
     },
     "execution_count": 3,
     "metadata": {},
     "output_type": "execute_result"
    }
   ],
   "source": [
    "ord('s')"
   ]
  },
  {
   "cell_type": "code",
   "execution_count": 4,
   "id": "0bdd68f3-0ab1-475d-8de5-f48a66a83874",
   "metadata": {},
   "outputs": [
    {
     "ename": "TypeError",
     "evalue": "ord() expected a character, but string of length 6 found",
     "output_type": "error",
     "traceback": [
      "\u001b[1;31m---------------------------------------------------------------------------\u001b[0m",
      "\u001b[1;31mTypeError\u001b[0m                                 Traceback (most recent call last)",
      "Cell \u001b[1;32mIn[4], line 1\u001b[0m\n\u001b[1;32m----> 1\u001b[0m \u001b[38;5;28mord\u001b[39m(\u001b[38;5;124m'\u001b[39m\u001b[38;5;124msameer\u001b[39m\u001b[38;5;124m'\u001b[39m)\n",
      "\u001b[1;31mTypeError\u001b[0m: ord() expected a character, but string of length 6 found"
     ]
    }
   ],
   "source": [
    "ord('sameer')"
   ]
  },
  {
   "cell_type": "markdown",
   "id": "cea378ab-1948-472e-a1e3-9caf13ced46a",
   "metadata": {},
   "source": [
    "### Data Types\n",
    "- int float bool str"
   ]
  },
  {
   "cell_type": "markdown",
   "id": "1079aea6-2e19-4a33-8637-d3c042b8fa4a",
   "metadata": {},
   "source": [
    "- check data type \"print(type(check))\""
   ]
  },
  {
   "cell_type": "code",
   "execution_count": 5,
   "id": "290604e2-bf88-4f0f-b895-fbf6a44962fe",
   "metadata": {},
   "outputs": [
    {
     "name": "stdout",
     "output_type": "stream",
     "text": [
      "<class 'float'>\n"
     ]
    }
   ],
   "source": [
    "print(type(0.44))"
   ]
  },
  {
   "cell_type": "code",
   "execution_count": 6,
   "id": "97e31422-ea78-48a4-9ba6-711f72d67a2c",
   "metadata": {},
   "outputs": [
    {
     "name": "stdout",
     "output_type": "stream",
     "text": [
      "<class 'float'>\n"
     ]
    }
   ],
   "source": [
    "print(type(00.44))"
   ]
  },
  {
   "cell_type": "code",
   "execution_count": 7,
   "id": "58977c4e-55cc-4e80-b692-30f991acb524",
   "metadata": {},
   "outputs": [
    {
     "ename": "SyntaxError",
     "evalue": "invalid syntax. Perhaps you forgot a comma? (2021378794.py, line 1)",
     "output_type": "error",
     "traceback": [
      "\u001b[1;36m  Cell \u001b[1;32mIn[7], line 1\u001b[1;36m\u001b[0m\n\u001b[1;33m    print(type(0.4.4))\u001b[0m\n\u001b[1;37m               ^\u001b[0m\n\u001b[1;31mSyntaxError\u001b[0m\u001b[1;31m:\u001b[0m invalid syntax. Perhaps you forgot a comma?\n"
     ]
    }
   ],
   "source": [
    "print(type(0.4.4))"
   ]
  },
  {
   "cell_type": "code",
   "execution_count": 8,
   "id": "c5d7a12d-bb3a-4519-b4d5-6529c2bbbfb2",
   "metadata": {},
   "outputs": [
    {
     "ename": "NameError",
     "evalue": "name 'true' is not defined",
     "output_type": "error",
     "traceback": [
      "\u001b[1;31m---------------------------------------------------------------------------\u001b[0m",
      "\u001b[1;31mNameError\u001b[0m                                 Traceback (most recent call last)",
      "Cell \u001b[1;32mIn[8], line 1\u001b[0m\n\u001b[1;32m----> 1\u001b[0m \u001b[38;5;28mprint\u001b[39m(\u001b[38;5;28mtype\u001b[39m(true))\n",
      "\u001b[1;31mNameError\u001b[0m: name 'true' is not defined"
     ]
    }
   ],
   "source": [
    "print(type(true))"
   ]
  },
  {
   "cell_type": "code",
   "execution_count": 9,
   "id": "ab3ce76a-2f72-4901-b7e8-d92d8a302653",
   "metadata": {},
   "outputs": [
    {
     "name": "stdout",
     "output_type": "stream",
     "text": [
      "<class 'bool'>\n"
     ]
    }
   ],
   "source": [
    "print(type(5==5))"
   ]
  },
  {
   "cell_type": "code",
   "execution_count": null,
   "id": "e7fc01ee-8f2b-461f-ab4c-e2e976179266",
   "metadata": {},
   "outputs": [
    {
     "ename": "TypeError",
     "evalue": "type() takes 1 or 3 arguments",
     "output_type": "error",
     "traceback": [
      "\u001b[31m---------------------------------------------------------------------------\u001b[39m",
      "\u001b[31mTypeError\u001b[39m                                 Traceback (most recent call last)",
      "\u001b[36mCell\u001b[39m\u001b[36m \u001b[39m\u001b[32mIn[11]\u001b[39m\u001b[32m, line 1\u001b[39m\n\u001b[32m----> \u001b[39m\u001b[32m1\u001b[39m \u001b[38;5;28mprint\u001b[39m(\u001b[38;5;28mtype\u001b[39m(\u001b[32m1\u001b[39m,\u001b[32m0.44\u001b[39m))\n",
      "\u001b[31mTypeError\u001b[39m: type() takes 1 or 3 arguments"
     ]
    }
   ],
   "source": [
    "print(type(1,0.44))"
   ]
  },
  {
   "cell_type": "code",
   "execution_count": null,
   "id": "7cde24e2-dc11-41f7-8df9-34c9759c3c5d",
   "metadata": {},
   "outputs": [
    {
     "ename": "TypeError",
     "evalue": "type.__new__() argument 1 must be str, not int",
     "output_type": "error",
     "traceback": [
      "\u001b[31m---------------------------------------------------------------------------\u001b[39m",
      "\u001b[31mTypeError\u001b[39m                                 Traceback (most recent call last)",
      "\u001b[36mCell\u001b[39m\u001b[36m \u001b[39m\u001b[32mIn[12]\u001b[39m\u001b[32m, line 1\u001b[39m\n\u001b[32m----> \u001b[39m\u001b[32m1\u001b[39m \u001b[38;5;28mprint\u001b[39m(\u001b[38;5;28mtype\u001b[39m(\u001b[32m1\u001b[39m,\u001b[32m0.44\u001b[39m,\u001b[33m\"\u001b[39m\u001b[33ma\u001b[39m\u001b[33m\"\u001b[39m))\n",
      "\u001b[31mTypeError\u001b[39m: type.__new__() argument 1 must be str, not int"
     ]
    }
   ],
   "source": [
    "print(type(1,0.44,\"a\"))"
   ]
  },
  {
   "cell_type": "markdown",
   "id": "63b83d06",
   "metadata": {},
   "source": [
    "# Day-2"
   ]
  },
  {
   "cell_type": "code",
   "execution_count": 10,
   "id": "8a13992c",
   "metadata": {},
   "outputs": [
    {
     "name": "stdout",
     "output_type": "stream",
     "text": [
      "S\n"
     ]
    }
   ],
   "source": [
    "str1=\"Sameer\"\n",
    "print(str1[0])"
   ]
  },
  {
   "cell_type": "code",
   "execution_count": 11,
   "id": "65f3ba57",
   "metadata": {},
   "outputs": [
    {
     "name": "stdout",
     "output_type": "stream",
     "text": [
      "Sam\n"
     ]
    }
   ],
   "source": [
    "print(str1[0:3])"
   ]
  },
  {
   "cell_type": "code",
   "execution_count": 12,
   "id": "52662a28",
   "metadata": {},
   "outputs": [
    {
     "name": "stdout",
     "output_type": "stream",
     "text": [
      "reemaS\n"
     ]
    }
   ],
   "source": [
    "print(str1[:-7:-1])"
   ]
  },
  {
   "cell_type": "markdown",
   "id": "6cb9027c",
   "metadata": {},
   "source": [
    "## Varibles"
   ]
  },
  {
   "cell_type": "code",
   "execution_count": 13,
   "id": "3d4caf2e",
   "metadata": {},
   "outputs": [],
   "source": [
    "string1= 123\n",
    "volume=22\n",
    "name='Sam'\n",
    "session=2\n",
    "ok=4.44"
   ]
  },
  {
   "cell_type": "code",
   "execution_count": 14,
   "id": "e8f6cb22",
   "metadata": {},
   "outputs": [
    {
     "name": "stdout",
     "output_type": "stream",
     "text": [
      "Sam\n"
     ]
    }
   ],
   "source": [
    "print(name)"
   ]
  },
  {
   "cell_type": "code",
   "execution_count": 15,
   "id": "52bfacfd",
   "metadata": {},
   "outputs": [
    {
     "name": "stdout",
     "output_type": "stream",
     "text": [
      "12\n"
     ]
    }
   ],
   "source": [
    "#Override \n",
    "a=10\n",
    "a=11\n",
    "a=12\n",
    "\n",
    "print(a)"
   ]
  },
  {
   "cell_type": "code",
   "execution_count": 16,
   "id": "171b140c",
   "metadata": {},
   "outputs": [
    {
     "name": "stdout",
     "output_type": "stream",
     "text": [
      "5 10 15\n"
     ]
    }
   ],
   "source": [
    "#Print values of 5,10,15 to the variables a b and c at single line\n",
    "a,b,c =5,10,15\n",
    "\n",
    "print(a,b,c)"
   ]
  },
  {
   "cell_type": "code",
   "execution_count": 17,
   "id": "ba43d1f9",
   "metadata": {},
   "outputs": [
    {
     "ename": "ValueError",
     "evalue": "too many values to unpack (expected 2)",
     "output_type": "error",
     "traceback": [
      "\u001b[1;31m---------------------------------------------------------------------------\u001b[0m",
      "\u001b[1;31mValueError\u001b[0m                                Traceback (most recent call last)",
      "Cell \u001b[1;32mIn[17], line 1\u001b[0m\n\u001b[1;32m----> 1\u001b[0m a,b \u001b[38;5;241m=\u001b[39m\u001b[38;5;241m5\u001b[39m,\u001b[38;5;241m10\u001b[39m,\u001b[38;5;241m15\u001b[39m\n",
      "\u001b[1;31mValueError\u001b[0m: too many values to unpack (expected 2)"
     ]
    }
   ],
   "source": [
    "a,b =5,10,15"
   ]
  },
  {
   "cell_type": "code",
   "execution_count": 18,
   "id": "154d7e89",
   "metadata": {},
   "outputs": [],
   "source": [
    "a =5,10,15"
   ]
  },
  {
   "cell_type": "code",
   "execution_count": 19,
   "id": "2697d712",
   "metadata": {},
   "outputs": [
    {
     "name": "stdout",
     "output_type": "stream",
     "text": [
      "(5, 10, 15)\n"
     ]
    }
   ],
   "source": [
    "print(a)"
   ]
  },
  {
   "cell_type": "code",
   "execution_count": 20,
   "id": "868e515e",
   "metadata": {},
   "outputs": [
    {
     "name": "stdout",
     "output_type": "stream",
     "text": [
      "50\n"
     ]
    }
   ],
   "source": [
    "intro='Hello my name is Sameer. Learning Basics of python'\n",
    "print(len(intro))"
   ]
  },
  {
   "cell_type": "markdown",
   "id": "33e8d073",
   "metadata": {},
   "source": [
    "### Splice"
   ]
  },
  {
   "cell_type": "code",
   "execution_count": 21,
   "id": "27eee4b7",
   "metadata": {},
   "outputs": [
    {
     "name": "stdout",
     "output_type": "stream",
     "text": [
      "lo my name is\n"
     ]
    }
   ],
   "source": [
    "print(intro[3:16]) #Slice"
   ]
  },
  {
   "cell_type": "code",
   "execution_count": 22,
   "id": "ab9298da",
   "metadata": {},
   "outputs": [
    {
     "name": "stdout",
     "output_type": "stream",
     "text": [
      "['Hello', 'my', 'name', 'is', 'Sameer.', 'Learning', 'Basics', 'of', 'python']\n"
     ]
    }
   ],
   "source": [
    "print(intro.split()) #Split"
   ]
  },
  {
   "cell_type": "code",
   "execution_count": 23,
   "id": "a077cc29",
   "metadata": {},
   "outputs": [],
   "source": [
    "name=\"Thalapathy Vijay\""
   ]
  },
  {
   "cell_type": "code",
   "execution_count": 24,
   "id": "40a31398",
   "metadata": {},
   "outputs": [
    {
     "data": {
      "text/plain": [
       "'yajiV yhtapalahT'"
      ]
     },
     "execution_count": 24,
     "metadata": {},
     "output_type": "execute_result"
    }
   ],
   "source": [
    "name[::-1]"
   ]
  },
  {
   "cell_type": "code",
   "execution_count": 25,
   "id": "a434ca46",
   "metadata": {},
   "outputs": [
    {
     "data": {
      "text/plain": [
       "'Thalapathy'"
      ]
     },
     "execution_count": 25,
     "metadata": {},
     "output_type": "execute_result"
    }
   ],
   "source": [
    "name[-16:-6]   #'Thalapathy'"
   ]
  },
  {
   "cell_type": "markdown",
   "id": "db20eae0",
   "metadata": {},
   "source": [
    "- Type Casting: Converting from one data type to another data type"
   ]
  },
  {
   "cell_type": "code",
   "execution_count": 26,
   "id": "53606d73",
   "metadata": {},
   "outputs": [
    {
     "name": "stdout",
     "output_type": "stream",
     "text": [
      "88.0\n",
      "88\n",
      "True\n"
     ]
    }
   ],
   "source": [
    "hello= 88\n",
    "\n",
    "print(float(hello))\n",
    "print(str(hello))\n",
    "print(bool(hello))"
   ]
  },
  {
   "cell_type": "code",
   "execution_count": null,
   "id": "e8aea913",
   "metadata": {},
   "outputs": [],
   "source": [
    "now= 4.44\n",
    "\n",
    "print(int(now))\n",
    "print(str(now))\n",
    "print(bool(now))"
   ]
  },
  {
   "cell_type": "code",
   "execution_count": null,
   "id": "bd6aa69e",
   "metadata": {},
   "outputs": [],
   "source": [
    "str1 = \"sameer\"\n",
    "\n",
    "print(int(str1))\n",
    "print(float(str1))"
   ]
  },
  {
   "cell_type": "code",
   "execution_count": null,
   "id": "1f1e8335",
   "metadata": {},
   "outputs": [],
   "source": [
    "str1 = \"1234\"\n",
    "\n",
    "print(int(str1))\n",
    "print(float(str1))"
   ]
  },
  {
   "cell_type": "code",
   "execution_count": null,
   "id": "9dfd6452",
   "metadata": {},
   "outputs": [],
   "source": [
    "a,b = 45,55\n",
    "print(a+b)"
   ]
  },
  {
   "cell_type": "code",
   "execution_count": null,
   "id": "83a84e79",
   "metadata": {},
   "outputs": [],
   "source": [
    "a= int(input(print(\"Give me a number:\")))\n",
    "b= int(input(print('Give me b number:')))\n",
    "print(f\"Sum of {a} and {b}: {a+b}\")"
   ]
  },
  {
   "cell_type": "markdown",
   "id": "f76ad550",
   "metadata": {},
   "source": [
    "- Read about Split,Strip and Join"
   ]
  },
  {
   "cell_type": "markdown",
   "id": "eec077a6",
   "metadata": {},
   "source": [
    "# Day-3"
   ]
  },
  {
   "cell_type": "markdown",
   "id": "edaa855b",
   "metadata": {},
   "source": [
    "## Strings"
   ]
  },
  {
   "cell_type": "code",
   "execution_count": null,
   "id": "0a439f2d",
   "metadata": {},
   "outputs": [
    {
     "name": "stdout",
     "output_type": "stream",
     "text": [
      "sam\n"
     ]
    }
   ],
   "source": [
    "name = \"SAM\"\n",
    "print(name.lower())"
   ]
  },
  {
   "cell_type": "code",
   "execution_count": null,
   "id": "d56f912a",
   "metadata": {},
   "outputs": [
    {
     "name": "stdout",
     "output_type": "stream",
     "text": [
      "Hello my name is sameer. can i know ur name\n"
     ]
    }
   ],
   "source": [
    "intro = \"hello my name is sameer. can i know ur name\"\n",
    "print(intro.capitalize())"
   ]
  },
  {
   "cell_type": "code",
   "execution_count": null,
   "id": "72450ff7",
   "metadata": {},
   "outputs": [
    {
     "name": "stdout",
     "output_type": "stream",
     "text": [
      "Hello My Name Is Sameer. Can I Know Ur Name\n"
     ]
    }
   ],
   "source": [
    "print(intro.title())"
   ]
  },
  {
   "cell_type": "code",
   "execution_count": null,
   "id": "bcd72d40",
   "metadata": {},
   "outputs": [
    {
     "name": "stdout",
     "output_type": "stream",
     "text": [
      "hello my name is sameer. i want to know ur name\n"
     ]
    }
   ],
   "source": [
    "print(intro.replace(\"can i\",\"i want to\"))"
   ]
  },
  {
   "cell_type": "code",
   "execution_count": null,
   "id": "5694b325",
   "metadata": {},
   "outputs": [
    {
     "name": "stdout",
     "output_type": "stream",
     "text": [
      "17\n"
     ]
    }
   ],
   "source": [
    "print(intro.find(\"sameer\"))  #gives index value"
   ]
  },
  {
   "cell_type": "code",
   "execution_count": null,
   "id": "2ab5aa6f",
   "metadata": {},
   "outputs": [
    {
     "data": {
      "text/plain": [
       "False"
      ]
     },
     "execution_count": 16,
     "metadata": {},
     "output_type": "execute_result"
    }
   ],
   "source": [
    "a='123'\n",
    "a.isalpha()"
   ]
  },
  {
   "cell_type": "code",
   "execution_count": null,
   "id": "2dc9d5f8",
   "metadata": {},
   "outputs": [
    {
     "data": {
      "text/plain": [
       "True"
      ]
     },
     "execution_count": 18,
     "metadata": {},
     "output_type": "execute_result"
    }
   ],
   "source": [
    "a.isalnum()"
   ]
  },
  {
   "cell_type": "code",
   "execution_count": null,
   "id": "a83d2ec7",
   "metadata": {},
   "outputs": [
    {
     "name": "stdout",
     "output_type": "stream",
     "text": [
      "w   efff\n"
     ]
    }
   ],
   "source": [
    "ok = \"    w   efff   \"\n",
    "print(ok.strip())"
   ]
  },
  {
   "cell_type": "code",
   "execution_count": null,
   "id": "7308c808",
   "metadata": {},
   "outputs": [
    {
     "name": "stdout",
     "output_type": "stream",
     "text": [
      "w   efff   \n"
     ]
    }
   ],
   "source": [
    "print(ok.lstrip())"
   ]
  },
  {
   "cell_type": "code",
   "execution_count": null,
   "id": "59f17ebb",
   "metadata": {},
   "outputs": [
    {
     "data": {
      "text/plain": [
       "', h e r e   h e   c o m e s'"
      ]
     },
     "execution_count": 27,
     "metadata": {},
     "output_type": "execute_result"
    }
   ],
   "source": [
    "he = \",here he comes\"\n",
    "' '.join(he)"
   ]
  },
  {
   "cell_type": "code",
   "execution_count": null,
   "id": "28eb5de5",
   "metadata": {},
   "outputs": [
    {
     "data": {
      "text/plain": [
       "'1,2,3,4,5'"
      ]
     },
     "execution_count": 29,
     "metadata": {},
     "output_type": "execute_result"
    }
   ],
   "source": [
    "lists=['1','2','3','4','5']\n",
    "','.join(lists)"
   ]
  },
  {
   "cell_type": "code",
   "execution_count": null,
   "id": "75ea5537",
   "metadata": {},
   "outputs": [
    {
     "data": {
      "text/plain": [
       "'[\"1\",\" \"2\",\" \"3\",\" \"4\",\" \"5\",\" \"6\"]'"
      ]
     },
     "execution_count": 31,
     "metadata": {},
     "output_type": "execute_result"
    }
   ],
   "source": [
    "lists = [1,2,3,4,5,6]\n",
    "strlist = str(lists)\n",
    "'\"'.join(strlist)"
   ]
  },
  {
   "cell_type": "code",
   "execution_count": null,
   "id": "76ace3c9",
   "metadata": {},
   "outputs": [
    {
     "name": "stdout",
     "output_type": "stream",
     "text": [
      "[6, 5, 4, 3, 2, 1]\n"
     ]
    }
   ],
   "source": [
    "print(lists[::-1])"
   ]
  },
  {
   "cell_type": "code",
   "execution_count": null,
   "id": "76a73251",
   "metadata": {},
   "outputs": [
    {
     "data": {
      "text/plain": [
       "'aaaaaaaaaaaaaaaaaaaaaa&bbbbbbbbbbbbbbbbbbbbbbbbbbbbbbbbbbb&cccccccccccccccccccccccccccc'"
      ]
     },
     "execution_count": 35,
     "metadata": {},
     "output_type": "execute_result"
    }
   ],
   "source": [
    "a = \"aaaaaaaaaaaaaaaaaaaaaaGbbbbbbbbbbbbbbbbbbbbbbbbbbbbbbbbbbbGcccccccccccccccccccccccccccc\"\n",
    "a.replace(\"G\",\"&\")"
   ]
  },
  {
   "cell_type": "code",
   "execution_count": null,
   "id": "f514c585",
   "metadata": {},
   "outputs": [
    {
     "data": {
      "text/plain": [
       "22"
      ]
     },
     "execution_count": 39,
     "metadata": {},
     "output_type": "execute_result"
    }
   ],
   "source": [
    "a.find(\"G\")"
   ]
  },
  {
   "cell_type": "code",
   "execution_count": null,
   "id": "80f4ab46",
   "metadata": {},
   "outputs": [
    {
     "data": {
      "text/plain": [
       "87"
      ]
     },
     "execution_count": 43,
     "metadata": {},
     "output_type": "execute_result"
    }
   ],
   "source": [
    "len(a)"
   ]
  },
  {
   "cell_type": "markdown",
   "id": "62b0639d",
   "metadata": {},
   "source": [
    "## - Data Structures\n",
    "\n",
    "- mutable\n",
    "- immutable"
   ]
  },
  {
   "cell_type": "code",
   "execution_count": null,
   "id": "62c9d82c",
   "metadata": {},
   "outputs": [
    {
     "name": "stdout",
     "output_type": "stream",
     "text": [
      "(1, 2, 3)\n",
      "<class 'tuple'>\n"
     ]
    }
   ],
   "source": [
    "a=1,2,3\n",
    "print(a)\n",
    "print(type(a))"
   ]
  },
  {
   "cell_type": "code",
   "execution_count": null,
   "id": "97dc2018",
   "metadata": {},
   "outputs": [
    {
     "name": "stdout",
     "output_type": "stream",
     "text": [
      "<class 'list'>\n"
     ]
    }
   ],
   "source": [
    "x=[(1),[2],(3)]\n",
    "print(type(x))"
   ]
  },
  {
   "cell_type": "code",
   "execution_count": null,
   "id": "f8641252",
   "metadata": {},
   "outputs": [
    {
     "name": "stdout",
     "output_type": "stream",
     "text": [
      "sahu\n"
     ]
    }
   ],
   "source": [
    "abc=[3,4,(11,12,13,['rahul','ravi',('man',['sammy','sahu'],98)],56)]\n",
    "type(abc)\n",
    "print(abc[2][3][2][1][1])"
   ]
  },
  {
   "cell_type": "code",
   "execution_count": null,
   "id": "9629ca88",
   "metadata": {},
   "outputs": [
    {
     "name": "stdout",
     "output_type": "stream",
     "text": [
      "[3, 4, (11, 12, 13, ['rahul', 'ravi', ('man', ['sammy', 'sahu'], 98)], 56), 'hello']\n"
     ]
    }
   ],
   "source": [
    "abc.append(\"hello\")\n",
    "print(abc)"
   ]
  },
  {
   "cell_type": "code",
   "execution_count": null,
   "id": "941dfe70",
   "metadata": {},
   "outputs": [
    {
     "name": "stdout",
     "output_type": "stream",
     "text": [
      "[3, 4, 'added', (11, 12, 13, ['rahul', 'ravi', ('man', ['sammy', 'sahu'], 98)], 56), 'hello']\n"
     ]
    }
   ],
   "source": [
    "abc.insert(2,\"added\")\n",
    "print(abc)"
   ]
  },
  {
   "cell_type": "code",
   "execution_count": null,
   "id": "25e52aa2",
   "metadata": {},
   "outputs": [
    {
     "name": "stdout",
     "output_type": "stream",
     "text": [
      "[3, 'added', (11, 12, 13, ['rahul', 'ravi', ('man', ['sammy', 'sahu'], 98)], 56), 'hello']\n"
     ]
    }
   ],
   "source": [
    "abc.remove(4)\n",
    "print(abc)"
   ]
  },
  {
   "cell_type": "code",
   "execution_count": null,
   "id": "dbf24be5",
   "metadata": {},
   "outputs": [
    {
     "name": "stdout",
     "output_type": "stream",
     "text": [
      "[3, 'added', (11, 12, 13, ['rahul', 'ravi', ('man', ['sammy', 'sahu'], 98)], 56)]\n"
     ]
    }
   ],
   "source": [
    "abc.pop()\n",
    "print(abc)"
   ]
  },
  {
   "cell_type": "code",
   "execution_count": null,
   "id": "d792059c",
   "metadata": {},
   "outputs": [
    {
     "name": "stdout",
     "output_type": "stream",
     "text": [
      "<class 'list'>\n",
      "[1, 12, 3, 4, 5, 2, 3, 1, 1, 1, 3, 4, 'r', 4, 3, 2]\n"
     ]
    }
   ],
   "source": [
    "a=[1,1,12,3,4,5,2,3,1,1,1,3,4,'r',4,3,2]\n",
    "a.remove(1)\n",
    "print(type(a))\n",
    "print(a)"
   ]
  },
  {
   "cell_type": "code",
   "execution_count": null,
   "id": "f1033555",
   "metadata": {},
   "outputs": [
    {
     "data": {
      "text/plain": [
       "4"
      ]
     },
     "execution_count": 64,
     "metadata": {},
     "output_type": "execute_result"
    }
   ],
   "source": [
    "a.pop(-3)"
   ]
  },
  {
   "cell_type": "markdown",
   "id": "53557773",
   "metadata": {},
   "source": [
    "## Day-4"
   ]
  },
  {
   "cell_type": "code",
   "execution_count": 7,
   "id": "17393c53",
   "metadata": {},
   "outputs": [],
   "source": [
    "# add 4 to list 1,2,3 with out defining a variable\n",
    "\n",
    "[1,2,3].append(4)"
   ]
  },
  {
   "cell_type": "code",
   "execution_count": null,
   "id": "d88fb3fc",
   "metadata": {},
   "outputs": [
    {
     "name": "stdout",
     "output_type": "stream",
     "text": [
      "[1, 2, 3, 4, 5]\n"
     ]
    }
   ],
   "source": [
    "a= [1,2,3]\n",
    "b=[4,5]\n",
    "a.extend(b) #or a.extend([4,5])\n",
    "print(a)"
   ]
  },
  {
   "cell_type": "code",
   "execution_count": 11,
   "id": "b2c43d48",
   "metadata": {},
   "outputs": [
    {
     "name": "stdout",
     "output_type": "stream",
     "text": [
      "[]\n"
     ]
    }
   ],
   "source": [
    "a.clear()\n",
    "print(a)"
   ]
  },
  {
   "cell_type": "code",
   "execution_count": 13,
   "id": "831388f3",
   "metadata": {},
   "outputs": [
    {
     "name": "stdout",
     "output_type": "stream",
     "text": [
      "<class 'tuple'>\n"
     ]
    }
   ],
   "source": [
    "tuple= ('a','b','c','d')\n",
    "print(type(tuple))"
   ]
  },
  {
   "cell_type": "code",
   "execution_count": null,
   "id": "a3f80722",
   "metadata": {},
   "outputs": [
    {
     "ename": "AttributeError",
     "evalue": "'tuple' object has no attribute 'remove'",
     "output_type": "error",
     "traceback": [
      "\u001b[1;31m---------------------------------------------------------------------------\u001b[0m",
      "\u001b[1;31mAttributeError\u001b[0m                            Traceback (most recent call last)",
      "Cell \u001b[1;32mIn[14], line 1\u001b[0m\n\u001b[1;32m----> 1\u001b[0m \u001b[38;5;28mtuple\u001b[39m\u001b[38;5;241m.\u001b[39mremove(\u001b[38;5;124m'\u001b[39m\u001b[38;5;124ma\u001b[39m\u001b[38;5;124m'\u001b[39m)\n",
      "\u001b[1;31mAttributeError\u001b[0m: 'tuple' object has no attribute 'remove'"
     ]
    }
   ],
   "source": [
    "tuple.remove('a') #.pop(),.append()   .hence tuple is immutable"
   ]
  },
  {
   "cell_type": "markdown",
   "id": "ada1e260",
   "metadata": {},
   "source": [
    "### Real life use cases of list and tuples\n",
    "- example, Tuple=Adhaar Card Number & List= Address"
   ]
  },
  {
   "cell_type": "code",
   "execution_count": 21,
   "id": "3e0667d8",
   "metadata": {},
   "outputs": [
    {
     "name": "stdout",
     "output_type": "stream",
     "text": [
      "<class 'tuple'>\n",
      "<class 'list'>\n",
      "[2, 3, 4]\n"
     ]
    }
   ],
   "source": [
    "tuple=(2,3,4)\n",
    "print(type(tuple))\n",
    "b=list(tuple)\n",
    "print(type(b))\n",
    "print(b)"
   ]
  },
  {
   "cell_type": "code",
   "execution_count": 22,
   "id": "b173b0e3",
   "metadata": {},
   "outputs": [
    {
     "name": "stdout",
     "output_type": "stream",
     "text": [
      "<class 'list'>\n"
     ]
    }
   ],
   "source": [
    "a=[]\n",
    "print(type(a))"
   ]
  },
  {
   "cell_type": "code",
   "execution_count": 23,
   "id": "f49be50e",
   "metadata": {},
   "outputs": [
    {
     "name": "stdout",
     "output_type": "stream",
     "text": [
      "<class 'set'>\n"
     ]
    }
   ],
   "source": [
    "a={1,2,3,4}\n",
    "print(type(a))"
   ]
  },
  {
   "cell_type": "code",
   "execution_count": 26,
   "id": "4d762123",
   "metadata": {},
   "outputs": [
    {
     "ename": "TypeError",
     "evalue": "'set' object is not subscriptable",
     "output_type": "error",
     "traceback": [
      "\u001b[1;31m---------------------------------------------------------------------------\u001b[0m",
      "\u001b[1;31mTypeError\u001b[0m                                 Traceback (most recent call last)",
      "Cell \u001b[1;32mIn[26], line 1\u001b[0m\n\u001b[1;32m----> 1\u001b[0m a[\u001b[38;5;241m2\u001b[39m]\n",
      "\u001b[1;31mTypeError\u001b[0m: 'set' object is not subscriptable"
     ]
    }
   ],
   "source": [
    "a[2]"
   ]
  },
  {
   "cell_type": "code",
   "execution_count": 30,
   "id": "c6c64360",
   "metadata": {},
   "outputs": [
    {
     "name": "stdout",
     "output_type": "stream",
     "text": [
      "{1, 2, 3, 4, 68, 12, 45}\n",
      "{'s', 'a', 'c', 'd', 'b'}\n",
      "{1, 2, 3, 4, 5, 7, 'a', 'c', 'b'}\n"
     ]
    }
   ],
   "source": [
    "v={12,4,68,3,2,45,1,4}\n",
    "u={'s','a','b','d','c'}\n",
    "w={1,3,2,'a','c','b',5,7,4}\n",
    "print(v)\n",
    "print(u)\n",
    "print(w)"
   ]
  },
  {
   "cell_type": "markdown",
   "id": "06a7370c",
   "metadata": {},
   "source": [
    "### Difference between List,Tuples and Sets"
   ]
  },
  {
   "cell_type": "code",
   "execution_count": 32,
   "id": "816688ee",
   "metadata": {},
   "outputs": [
    {
     "name": "stdout",
     "output_type": "stream",
     "text": [
      "[1, 1, 1, 1, 2, 2, 3, 3, 4, 5, 3, 2] (1, 1, 1, 1, 2, 2, 2, 3, 3, 4, 5, 3) {1, 2, 3, 4, 5}\n"
     ]
    }
   ],
   "source": [
    "x=[1,1,1,1,2,2,3,3,4,5,3,2]\n",
    "y=(1,1,1,1,2,2,2,3,3,4,5,3)\n",
    "z={1,1,1,1,2,2,2,2,3,3,4,5,5}  #Set does not allow duplicates\n",
    "\n",
    "print(x,y,z)"
   ]
  },
  {
   "cell_type": "code",
   "execution_count": 38,
   "id": "22371f0a",
   "metadata": {},
   "outputs": [
    {
     "name": "stdout",
     "output_type": "stream",
     "text": [
      "{1, 2, 3, 4}\n"
     ]
    }
   ],
   "source": [
    "y={1,2,3}\n",
    "listy =list(y)\n",
    "listy.append(4)\n",
    "y=set(listy)\n",
    "print(y)"
   ]
  },
  {
   "cell_type": "code",
   "execution_count": 39,
   "id": "de1bc493",
   "metadata": {},
   "outputs": [
    {
     "data": {
      "text/plain": [
       "{1, 2, 3, 4, 45}"
      ]
     },
     "execution_count": 39,
     "metadata": {},
     "output_type": "execute_result"
    }
   ],
   "source": [
    "y.add(45)\n",
    "y"
   ]
  },
  {
   "cell_type": "code",
   "execution_count": 40,
   "id": "cc89eb8b",
   "metadata": {},
   "outputs": [
    {
     "data": {
      "text/plain": [
       "{1, 2, 3, 4}"
      ]
     },
     "execution_count": 40,
     "metadata": {},
     "output_type": "execute_result"
    }
   ],
   "source": [
    "y.remove(45)\n",
    "y"
   ]
  },
  {
   "cell_type": "code",
   "execution_count": 41,
   "id": "4c9f64f8",
   "metadata": {},
   "outputs": [
    {
     "data": {
      "text/plain": [
       "{2, 3, 4}"
      ]
     },
     "execution_count": 41,
     "metadata": {},
     "output_type": "execute_result"
    }
   ],
   "source": [
    "y.pop()\n",
    "y"
   ]
  },
  {
   "cell_type": "code",
   "execution_count": 42,
   "id": "c4b43e66",
   "metadata": {},
   "outputs": [
    {
     "ename": "TypeError",
     "evalue": "set.pop() takes no arguments (1 given)",
     "output_type": "error",
     "traceback": [
      "\u001b[1;31m---------------------------------------------------------------------------\u001b[0m",
      "\u001b[1;31mTypeError\u001b[0m                                 Traceback (most recent call last)",
      "Cell \u001b[1;32mIn[42], line 1\u001b[0m\n\u001b[1;32m----> 1\u001b[0m y\u001b[38;5;241m.\u001b[39mpop(\u001b[38;5;241m1\u001b[39m)\n",
      "\u001b[1;31mTypeError\u001b[0m: set.pop() takes no arguments (1 given)"
     ]
    }
   ],
   "source": [
    "y.pop(1)"
   ]
  },
  {
   "cell_type": "code",
   "execution_count": 44,
   "id": "3d199bdb",
   "metadata": {},
   "outputs": [
    {
     "name": "stdout",
     "output_type": "stream",
     "text": [
      "set()\n"
     ]
    }
   ],
   "source": [
    "y.clear()\n",
    "print(y)"
   ]
  },
  {
   "cell_type": "code",
   "execution_count": 45,
   "id": "571f5969",
   "metadata": {},
   "outputs": [
    {
     "data": {
      "text/plain": [
       "[1, 2, 3, 4]"
      ]
     },
     "execution_count": 45,
     "metadata": {},
     "output_type": "execute_result"
    }
   ],
   "source": [
    "x=[1,2]\n",
    "y=[3,4]\n",
    "\n",
    "x+y"
   ]
  },
  {
   "cell_type": "code",
   "execution_count": 46,
   "id": "2447838b",
   "metadata": {},
   "outputs": [
    {
     "data": {
      "text/plain": [
       "(1, 2, 3, 4)"
      ]
     },
     "execution_count": 46,
     "metadata": {},
     "output_type": "execute_result"
    }
   ],
   "source": [
    "x=(1,2)\n",
    "y=(3,4)\n",
    "\n",
    "x+y"
   ]
  },
  {
   "cell_type": "code",
   "execution_count": 49,
   "id": "f755b94d",
   "metadata": {},
   "outputs": [
    {
     "ename": "TypeError",
     "evalue": "unsupported operand type(s) for +: 'set' and 'set'",
     "output_type": "error",
     "traceback": [
      "\u001b[1;31m---------------------------------------------------------------------------\u001b[0m",
      "\u001b[1;31mTypeError\u001b[0m                                 Traceback (most recent call last)",
      "Cell \u001b[1;32mIn[49], line 4\u001b[0m\n\u001b[0;32m      1\u001b[0m x\u001b[38;5;241m=\u001b[39m{\u001b[38;5;241m1\u001b[39m,\u001b[38;5;241m2\u001b[39m}\n\u001b[0;32m      2\u001b[0m y\u001b[38;5;241m=\u001b[39m{\u001b[38;5;241m3\u001b[39m,\u001b[38;5;241m4\u001b[39m}\n\u001b[1;32m----> 4\u001b[0m x\u001b[38;5;241m+\u001b[39my\n",
      "\u001b[1;31mTypeError\u001b[0m: unsupported operand type(s) for +: 'set' and 'set'"
     ]
    }
   ],
   "source": [
    "x={1,2}\n",
    "y={3,4}\n",
    "\n",
    "x+y"
   ]
  },
  {
   "cell_type": "code",
   "execution_count": null,
   "id": "daa38e68",
   "metadata": {},
   "outputs": [
    {
     "data": {
      "text/plain": [
       "{1, 2, 3, 4}"
      ]
     },
     "execution_count": 51,
     "metadata": {},
     "output_type": "execute_result"
    }
   ],
   "source": [
    "x|y\n",
    "#or \n",
    "x.union(y)"
   ]
  },
  {
   "cell_type": "code",
   "execution_count": 52,
   "id": "7fe19bfc",
   "metadata": {},
   "outputs": [
    {
     "data": {
      "text/plain": [
       "{3}"
      ]
     },
     "execution_count": 52,
     "metadata": {},
     "output_type": "execute_result"
    }
   ],
   "source": [
    "x={1,2,3}\n",
    "y={3,4}\n",
    "x.intersection(y)"
   ]
  },
  {
   "cell_type": "code",
   "execution_count": 53,
   "id": "4967f0f3",
   "metadata": {},
   "outputs": [
    {
     "data": {
      "text/plain": [
       "{1, 7}"
      ]
     },
     "execution_count": 53,
     "metadata": {},
     "output_type": "execute_result"
    }
   ],
   "source": [
    "x={1,2,2,3,4,5,6,7}\n",
    "y={2,3,6,5,4,2,0}\n",
    "\n",
    "x.difference(y)"
   ]
  },
  {
   "cell_type": "code",
   "execution_count": 54,
   "id": "cefaea1a",
   "metadata": {},
   "outputs": [
    {
     "data": {
      "text/plain": [
       "{0, 1, 7}"
      ]
     },
     "execution_count": 54,
     "metadata": {},
     "output_type": "execute_result"
    }
   ],
   "source": [
    "x.symmetric_difference(y)"
   ]
  },
  {
   "cell_type": "code",
   "execution_count": 61,
   "id": "a014748b",
   "metadata": {},
   "outputs": [
    {
     "name": "stdout",
     "output_type": "stream",
     "text": [
      "{1, 2, 3, 4, 5, 6, 7}\n"
     ]
    }
   ],
   "source": [
    "print(x)"
   ]
  },
  {
   "cell_type": "code",
   "execution_count": 65,
   "id": "c1c46059",
   "metadata": {},
   "outputs": [
    {
     "ename": "TypeError",
     "evalue": "'dict' object is not callable",
     "output_type": "error",
     "traceback": [
      "\u001b[1;31m---------------------------------------------------------------------------\u001b[0m",
      "\u001b[1;31mTypeError\u001b[0m                                 Traceback (most recent call last)",
      "Cell \u001b[1;32mIn[65], line 1\u001b[0m\n\u001b[1;32m----> 1\u001b[0m r\u001b[38;5;241m=\u001b[39m\u001b[38;5;28mset\u001b[39m()\n\u001b[0;32m      2\u001b[0m \u001b[38;5;28mprint\u001b[39m(\u001b[38;5;28mtype\u001b[39m(r))\n",
      "\u001b[1;31mTypeError\u001b[0m: 'dict' object is not callable"
     ]
    }
   ],
   "source": [
    "r=set()\n",
    "print(type(r))"
   ]
  },
  {
   "cell_type": "code",
   "execution_count": 55,
   "id": "96a3b4ab",
   "metadata": {},
   "outputs": [
    {
     "data": {
      "text/plain": [
       "dict"
      ]
     },
     "execution_count": 55,
     "metadata": {},
     "output_type": "execute_result"
    }
   ],
   "source": [
    "set ={}\n",
    "type(set)"
   ]
  },
  {
   "cell_type": "code",
   "execution_count": 69,
   "id": "fdde8725",
   "metadata": {},
   "outputs": [
    {
     "data": {
      "text/plain": [
       "{'key': 'value', 1: 88, 2: 342, 3: 3213, 55: 345}"
      ]
     },
     "execution_count": 69,
     "metadata": {},
     "output_type": "execute_result"
    }
   ],
   "source": [
    "x={'key':'value',1:88,2:342,3:3213,55:345}\n",
    "x"
   ]
  },
  {
   "cell_type": "code",
   "execution_count": 70,
   "id": "bc4ef3f5",
   "metadata": {},
   "outputs": [
    {
     "data": {
      "text/plain": [
       "345"
      ]
     },
     "execution_count": 70,
     "metadata": {},
     "output_type": "execute_result"
    }
   ],
   "source": [
    "x[55]"
   ]
  },
  {
   "cell_type": "code",
   "execution_count": 71,
   "id": "49113c5c",
   "metadata": {},
   "outputs": [
    {
     "ename": "TypeError",
     "evalue": "unhashable type: 'slice'",
     "output_type": "error",
     "traceback": [
      "\u001b[1;31m---------------------------------------------------------------------------\u001b[0m",
      "\u001b[1;31mTypeError\u001b[0m                                 Traceback (most recent call last)",
      "Cell \u001b[1;32mIn[71], line 1\u001b[0m\n\u001b[1;32m----> 1\u001b[0m x[\u001b[38;5;124m'\u001b[39m\u001b[38;5;124mkey\u001b[39m\u001b[38;5;124m'\u001b[39m:\u001b[38;5;241m3\u001b[39m]\n",
      "\u001b[1;31mTypeError\u001b[0m: unhashable type: 'slice'"
     ]
    }
   ],
   "source": [
    "x['key':3]"
   ]
  },
  {
   "cell_type": "code",
   "execution_count": 67,
   "id": "c71dd0c3",
   "metadata": {},
   "outputs": [
    {
     "data": {
      "text/plain": [
       "{'col1Name': [1, 2, 3, 4, 5], 'col2Name': [3432, 234, 435, 435, 566, 323]}"
      ]
     },
     "execution_count": 67,
     "metadata": {},
     "output_type": "execute_result"
    }
   ],
   "source": [
    "table={'col1Name':[1,2,3,4,5],'col2Name':[3432,234,435,435,566,323]}\n",
    "table"
   ]
  },
  {
   "cell_type": "code",
   "execution_count": 73,
   "id": "5676030f",
   "metadata": {},
   "outputs": [
    {
     "data": {
      "text/plain": [
       "[3432, 234, 435, 435, 566, 323]"
      ]
     },
     "execution_count": 73,
     "metadata": {},
     "output_type": "execute_result"
    }
   ],
   "source": [
    "table['col2Name']"
   ]
  },
  {
   "cell_type": "code",
   "execution_count": null,
   "id": "bf7205a5",
   "metadata": {},
   "outputs": [
    {
     "data": {
      "text/plain": [
       "{1: 124}"
      ]
     },
     "execution_count": 75,
     "metadata": {},
     "output_type": "execute_result"
    }
   ],
   "source": [
    "x={1:123,1:124}\n",
    "x    #Keys can be duplicated but values can be overrided"
   ]
  },
  {
   "cell_type": "code",
   "execution_count": null,
   "id": "b11f229b",
   "metadata": {},
   "outputs": [
    {
     "data": {
      "text/plain": [
       "{1: 124, 2: 3435}"
      ]
     },
     "execution_count": 76,
     "metadata": {},
     "output_type": "execute_result"
    }
   ],
   "source": [
    "#to add new key and value\n",
    "x[2]=3435      \n",
    "x"
   ]
  },
  {
   "cell_type": "code",
   "execution_count": 77,
   "id": "276b6e82",
   "metadata": {},
   "outputs": [
    {
     "ename": "AttributeError",
     "evalue": "'dict' object has no attribute 'remove'",
     "output_type": "error",
     "traceback": [
      "\u001b[1;31m---------------------------------------------------------------------------\u001b[0m",
      "\u001b[1;31mAttributeError\u001b[0m                            Traceback (most recent call last)",
      "Cell \u001b[1;32mIn[77], line 1\u001b[0m\n\u001b[1;32m----> 1\u001b[0m x\u001b[38;5;241m.\u001b[39mremove()\n",
      "\u001b[1;31mAttributeError\u001b[0m: 'dict' object has no attribute 'remove'"
     ]
    }
   ],
   "source": [
    "x.remove()"
   ]
  },
  {
   "cell_type": "code",
   "execution_count": 78,
   "id": "014f5693",
   "metadata": {},
   "outputs": [
    {
     "data": {
      "text/plain": [
       "{1: 124}"
      ]
     },
     "execution_count": 78,
     "metadata": {},
     "output_type": "execute_result"
    }
   ],
   "source": [
    "x.pop(2)\n",
    "x"
   ]
  },
  {
   "cell_type": "code",
   "execution_count": 80,
   "id": "d3c4d133",
   "metadata": {},
   "outputs": [],
   "source": [
    "y={4:1324,7:2345,8:9876}"
   ]
  },
  {
   "cell_type": "code",
   "execution_count": 83,
   "id": "7e61483a",
   "metadata": {},
   "outputs": [
    {
     "data": {
      "text/plain": [
       "{1: 124, 4: 1324, 7: 2345, 8: 9876}"
      ]
     },
     "execution_count": 83,
     "metadata": {},
     "output_type": "execute_result"
    }
   ],
   "source": [
    "x.update(y)\n",
    "x"
   ]
  },
  {
   "cell_type": "code",
   "execution_count": null,
   "id": "0cb9b8e6",
   "metadata": {},
   "outputs": [
    {
     "data": {
      "text/plain": [
       "dict_keys([1, 4, 7, 8])"
      ]
     },
     "execution_count": 84,
     "metadata": {},
     "output_type": "execute_result"
    }
   ],
   "source": [
    "x.keys() #To see every key existed in x"
   ]
  },
  {
   "cell_type": "code",
   "execution_count": 86,
   "id": "8af26f08",
   "metadata": {},
   "outputs": [
    {
     "data": {
      "text/plain": [
       "dict_values([124, 1324, 2345, 9876])"
      ]
     },
     "execution_count": 86,
     "metadata": {},
     "output_type": "execute_result"
    }
   ],
   "source": [
    "x.values()"
   ]
  },
  {
   "cell_type": "code",
   "execution_count": 87,
   "id": "f7a479cd",
   "metadata": {},
   "outputs": [
    {
     "data": {
      "text/plain": [
       "dict_items([(1, 124), (4, 1324), (7, 2345), (8, 9876)])"
      ]
     },
     "execution_count": 87,
     "metadata": {},
     "output_type": "execute_result"
    }
   ],
   "source": [
    "x.items()"
   ]
  },
  {
   "cell_type": "code",
   "execution_count": 93,
   "id": "ff9a2db2",
   "metadata": {},
   "outputs": [
    {
     "data": {
      "text/plain": [
       "dict"
      ]
     },
     "execution_count": 93,
     "metadata": {},
     "output_type": "execute_result"
    }
   ],
   "source": [
    "y={1:123,2:14132,3:1234}\n",
    "list(y)\n",
    "type(y)"
   ]
  },
  {
   "cell_type": "code",
   "execution_count": 95,
   "id": "1a1ef359",
   "metadata": {},
   "outputs": [
    {
     "data": {
      "text/plain": [
       "{1: 123, 88: 23452}"
      ]
     },
     "execution_count": 95,
     "metadata": {},
     "output_type": "execute_result"
    }
   ],
   "source": [
    "y=[(1,123),(88,23452)]\n",
    "dict(y) "
   ]
  },
  {
   "cell_type": "markdown",
   "id": "bfb3532c",
   "metadata": {},
   "source": [
    "# Day-5\n",
    "- Operator"
   ]
  },
  {
   "cell_type": "code",
   "execution_count": null,
   "id": "a8de2c7f",
   "metadata": {},
   "outputs": [
    {
     "name": "stdout",
     "output_type": "stream",
     "text": [
      "16\n",
      "8\n",
      "48\n",
      "3.0\n",
      "3\n",
      "0\n",
      "20736\n"
     ]
    }
   ],
   "source": [
    "# Arithmatic Operators (+,-,*,/,//,%,**)\n",
    "\n",
    "\n",
    "a,b = 12,4\n",
    "\n",
    "print(a+b)\n",
    "print(a-b)\n",
    "print(a*b)\n",
    "print(a/b)    #division\n",
    "print(a//b)   #floor division\n",
    "print(a%b)    #reminder\n",
    "print(a**b)"
   ]
  },
  {
   "cell_type": "code",
   "execution_count": 9,
   "id": "084debf7",
   "metadata": {},
   "outputs": [
    {
     "data": {
      "text/plain": [
       "4"
      ]
     },
     "execution_count": 9,
     "metadata": {},
     "output_type": "execute_result"
    }
   ],
   "source": [
    "#Assignment Operator (=,+=,-=,*=,/=,//=,%=,**=)\n",
    "\n",
    "a=2\n",
    "a+=2\n",
    "a"
   ]
  },
  {
   "cell_type": "code",
   "execution_count": 12,
   "id": "fd837a4b",
   "metadata": {},
   "outputs": [
    {
     "name": "stdout",
     "output_type": "stream",
     "text": [
      "False\n",
      "True\n",
      "False\n",
      "True\n",
      "True\n",
      "False\n"
     ]
    }
   ],
   "source": [
    "#Comparative Operators (==,!=,>,<,<=,>=)\n",
    "\n",
    "a=33\n",
    "b=42\n",
    "\n",
    "print(a==b)\n",
    "print(a!=b)\n",
    "print(a>b)\n",
    "print(a<b)\n",
    "print(a<=b)\n",
    "print(a>=b)"
   ]
  },
  {
   "cell_type": "code",
   "execution_count": 13,
   "id": "e5978767",
   "metadata": {},
   "outputs": [
    {
     "data": {
      "text/plain": [
       "True"
      ]
     },
     "execution_count": 13,
     "metadata": {},
     "output_type": "execute_result"
    }
   ],
   "source": [
    "#   (is,is not)\n",
    "\n",
    "a=250\n",
    "b=250\n",
    "\n",
    "a is b"
   ]
  },
  {
   "cell_type": "code",
   "execution_count": 14,
   "id": "c7bfebcc",
   "metadata": {},
   "outputs": [
    {
     "data": {
      "text/plain": [
       "False"
      ]
     },
     "execution_count": 14,
     "metadata": {},
     "output_type": "execute_result"
    }
   ],
   "source": [
    "a=257\n",
    "b=257\n",
    "\n",
    "a is b"
   ]
  },
  {
   "cell_type": "code",
   "execution_count": 15,
   "id": "ccc19587",
   "metadata": {},
   "outputs": [
    {
     "data": {
      "text/plain": [
       "True"
      ]
     },
     "execution_count": 15,
     "metadata": {},
     "output_type": "execute_result"
    }
   ],
   "source": [
    "a=(1,2,3)\n",
    "b=(1,2,3)\n",
    "\n",
    "a == b"
   ]
  },
  {
   "cell_type": "code",
   "execution_count": 16,
   "id": "c13c7c2a",
   "metadata": {},
   "outputs": [
    {
     "data": {
      "text/plain": [
       "False"
      ]
     },
     "execution_count": 16,
     "metadata": {},
     "output_type": "execute_result"
    }
   ],
   "source": [
    "a is b"
   ]
  },
  {
   "cell_type": "markdown",
   "id": "0e37ffc2",
   "metadata": {},
   "source": [
    "### Reasons\n",
    "- The variabes stores at different location and here (with is) it will try to compare between the variable\n",
    "- while == will compare the values"
   ]
  },
  {
   "cell_type": "code",
   "execution_count": 18,
   "id": "f9e17c73",
   "metadata": {},
   "outputs": [
    {
     "data": {
      "text/plain": [
       "False"
      ]
     },
     "execution_count": 18,
     "metadata": {},
     "output_type": "execute_result"
    }
   ],
   "source": [
    "# Membership Operators (in, not in)\n",
    "\n",
    "a=[1,2,3]\n",
    "4 in a"
   ]
  },
  {
   "cell_type": "code",
   "execution_count": 19,
   "id": "ba12ee3d",
   "metadata": {},
   "outputs": [
    {
     "data": {
      "text/plain": [
       "True"
      ]
     },
     "execution_count": 19,
     "metadata": {},
     "output_type": "execute_result"
    }
   ],
   "source": [
    "4 not in a"
   ]
  },
  {
   "cell_type": "code",
   "execution_count": 22,
   "id": "5dce46bd",
   "metadata": {},
   "outputs": [
    {
     "name": "stdout",
     "output_type": "stream",
     "text": [
      "True\n",
      "False\n",
      "False\n",
      "False\n"
     ]
    }
   ],
   "source": [
    "# Logical Operators (and,or)\n",
    "\n",
    "print(True and True)\n",
    "print(False and False)\n",
    "print(False and True)\n",
    "print(True and False)"
   ]
  },
  {
   "cell_type": "code",
   "execution_count": 23,
   "id": "de649c21",
   "metadata": {},
   "outputs": [
    {
     "name": "stdout",
     "output_type": "stream",
     "text": [
      "True\n",
      "False\n",
      "True\n",
      "True\n"
     ]
    }
   ],
   "source": [
    "print(True or True)\n",
    "print(False or False)\n",
    "print(False or True)\n",
    "print(True or False)"
   ]
  },
  {
   "cell_type": "code",
   "execution_count": 24,
   "id": "aa6d5f3a",
   "metadata": {},
   "outputs": [
    {
     "data": {
      "text/plain": [
       "True"
      ]
     },
     "execution_count": 24,
     "metadata": {},
     "output_type": "execute_result"
    }
   ],
   "source": [
    "not (True and False)"
   ]
  },
  {
   "cell_type": "code",
   "execution_count": 26,
   "id": "d5d92db5",
   "metadata": {},
   "outputs": [],
   "source": [
    "#Bitwise Operators (&[and],|[or],^[Xor],~[not],<<[left shift],>>[right shift])\n",
    "\n"
   ]
  },
  {
   "cell_type": "markdown",
   "id": "f7d05311",
   "metadata": {},
   "source": [
    "## Control Flow Statements"
   ]
  },
  {
   "cell_type": "code",
   "execution_count": null,
   "id": "c887201f",
   "metadata": {},
   "outputs": [
    {
     "name": "stdout",
     "output_type": "stream",
     "text": [
      "a is negative\n"
     ]
    }
   ],
   "source": [
    "a=0\n",
    "\n",
    "if a<0:\n",
    "    print('a is negative')\n",
    "elif a==0:\n",
    "    print('a is zero')\n",
    "else:\n",
    "    print('a is positive')\n",
    "\n"
   ]
  },
  {
   "cell_type": "code",
   "execution_count": 33,
   "id": "eb792561",
   "metadata": {},
   "outputs": [
    {
     "name": "stdout",
     "output_type": "stream",
     "text": [
      "a is small\n"
     ]
    }
   ],
   "source": [
    "a,b,c=1,10,8\n",
    "\n",
    "if a<b and a<c:\n",
    "    print('a is small')\n",
    "elif b<a and b<c:\n",
    "    print('b is small')\n",
    "else:\n",
    "    print('c is small')"
   ]
  },
  {
   "cell_type": "code",
   "execution_count": 41,
   "id": "c5a8e258",
   "metadata": {},
   "outputs": [
    {
     "name": "stdout",
     "output_type": "stream",
     "text": [
      "not a leap year\n"
     ]
    }
   ],
   "source": [
    "year = 2003\n",
    "\n",
    "if (year%4 ==0 and year%4 !=100) or (year%400 ==0):\n",
    "    print('Its a leap year')\n",
    "else:\n",
    "    print('not a leap year')"
   ]
  },
  {
   "cell_type": "code",
   "execution_count": null,
   "id": "0cc8fc38",
   "metadata": {},
   "outputs": [],
   "source": [
    "#not using or\n",
    "\n",
    "year = 2003\n",
    "\n",
    "if (year%400 ==0):\n",
    "    print('Its a leap year')\n",
    "elif (year%4 ==0 and year%4 !=100):\n",
    "    print('Its a leap year')\n",
    "else:\n",
    "    print('not a leap year')"
   ]
  },
  {
   "cell_type": "code",
   "execution_count": 44,
   "id": "fdaa3903",
   "metadata": {},
   "outputs": [
    {
     "name": "stdout",
     "output_type": "stream",
     "text": [
      "Its not a leap year with 100\n"
     ]
    }
   ],
   "source": [
    "#not using or,and\n",
    "\n",
    "year = 1400\n",
    "\n",
    "if (year%400 ==0):\n",
    "    print('Its a leap year')\n",
    "elif (year%4 ==0):\n",
    "    if (year%100 != 0):\n",
    "        print('Its a leap year with 100')\n",
    "    else:\n",
    "        print('Its not a leap year with 100')\n",
    "else:\n",
    "    print('not a leap year')"
   ]
  },
  {
   "cell_type": "code",
   "execution_count": null,
   "id": "133da575",
   "metadata": {},
   "outputs": [],
   "source": [
    "a=int(input())\n",
    "\n",
    "if (a%2 ==0):\n",
    "    print('divide by 2')\n",
    "elif (a%2 !=0):\n",
    "    print('not divide by 2')"
   ]
  },
  {
   "cell_type": "markdown",
   "id": "38dce824",
   "metadata": {},
   "source": [
    "# Day-6"
   ]
  },
  {
   "cell_type": "code",
   "execution_count": 5,
   "id": "fe64968f",
   "metadata": {},
   "outputs": [
    {
     "name": "stdout",
     "output_type": "stream",
     "text": [
      "9\n",
      "8\n",
      "7\n",
      "6\n",
      "5\n",
      "4\n",
      "3\n",
      "2\n",
      "1\n",
      "0\n"
     ]
    }
   ],
   "source": [
    "a=10\n",
    "while a>=1:\n",
    "    a-=1\n",
    "    print(a)"
   ]
  },
  {
   "cell_type": "code",
   "execution_count": null,
   "id": "fd5b5daf",
   "metadata": {},
   "outputs": [
    {
     "name": "stdout",
     "output_type": "stream",
     "text": [
      "10\n",
      "10\n",
      "10\n",
      "10\n",
      "10\n",
      "10\n",
      "10\n",
      "10\n",
      "10\n",
      "10\n"
     ]
    }
   ],
   "source": [
    "#Loops like for & while are used to run code nth times\n",
    "\n",
    "a=0\n",
    "while a<10:\n",
    "    print(10)\n",
    "    a+=1"
   ]
  },
  {
   "cell_type": "code",
   "execution_count": 17,
   "id": "0dbeaccc",
   "metadata": {},
   "outputs": [
    {
     "name": "stdout",
     "output_type": "stream",
     "text": [
      "2\n",
      "4\n",
      "6\n",
      "8\n",
      "10\n",
      "12\n",
      "14\n",
      "16\n",
      "18\n",
      "20\n",
      "22\n",
      "24\n",
      "26\n",
      "28\n",
      "30\n",
      "32\n",
      "34\n",
      "36\n",
      "38\n",
      "40\n",
      "42\n",
      "44\n",
      "46\n",
      "48\n",
      "50\n"
     ]
    }
   ],
   "source": [
    "num =0\n",
    "\n",
    "while num<50:\n",
    "    num+=2\n",
    "    print(num)"
   ]
  },
  {
   "cell_type": "code",
   "execution_count": 19,
   "id": "e65291e0",
   "metadata": {},
   "outputs": [
    {
     "name": "stdout",
     "output_type": "stream",
     "text": [
      "2,4,6,8,10,12,14,16,18,20,22,24,26,28,30,32,34,36,38,40,42,44,46,48,50,"
     ]
    }
   ],
   "source": [
    "num =0\n",
    "\n",
    "while num<50:\n",
    "    num+=2\n",
    "    print(num,end=',')"
   ]
  },
  {
   "cell_type": "code",
   "execution_count": 27,
   "id": "86796566",
   "metadata": {},
   "outputs": [
    {
     "name": "stdout",
     "output_type": "stream",
     "text": [
      "2,4,6,8,10,12,14,16,18,20,22,24,26,28,30,32,34,36,38,40,42,44,46,48,"
     ]
    }
   ],
   "source": [
    "num =1\n",
    "\n",
    "while num<=70:\n",
    "    if num%2==0:\n",
    "        print(num,end=',')\n",
    "    num+=1\n",
    "    if num==50:\n",
    "        break"
   ]
  },
  {
   "cell_type": "code",
   "execution_count": 3,
   "id": "bdd181af",
   "metadata": {},
   "outputs": [],
   "source": [
    "#Game\n",
    "\n",
    "import random\n",
    "\n",
    "x= random.randint(1,10)"
   ]
  },
  {
   "cell_type": "code",
   "execution_count": null,
   "id": "c818393b",
   "metadata": {},
   "outputs": [
    {
     "name": "stdout",
     "output_type": "stream",
     "text": [
      "enter your answer\n",
      "not correct ans\n",
      "enter your answer\n",
      "not correct ans\n",
      "enter your answer\n",
      "not correct ans\n",
      "enter your answer\n",
      "not correct ans\n",
      "enter your answer\n",
      "not correct ans\n",
      "enter your answer\n",
      "not correct ans\n",
      "enter your answer\n",
      "not correct ans\n",
      "enter your answer\n",
      "not correct ans\n",
      "enter your answer\n",
      "not correct ans\n",
      "enter your answer\n",
      "not correct ans\n",
      "enter your answer\n",
      "not correct ans\n",
      "enter your answer\n",
      "not correct ans\n",
      "enter your answer\n",
      "correct answer\n"
     ]
    }
   ],
   "source": [
    "chance=5\n",
    "while None!=0:\n",
    "    a=int(input(print('enter your answer')))\n",
    "    if a==x:\n",
    "        print(\"correct answer\")\n",
    "        break\n",
    "    else:\n",
    "        print('not correct ans')"
   ]
  },
  {
   "cell_type": "code",
   "execution_count": 6,
   "id": "32d42704",
   "metadata": {},
   "outputs": [
    {
     "name": "stdout",
     "output_type": "stream",
     "text": [
      "1\n",
      "2\n",
      "3\n",
      "4\n",
      "5\n",
      "6\n",
      "7\n",
      "8\n",
      "9\n",
      "10\n"
     ]
    }
   ],
   "source": [
    "for i in range(1,11):\n",
    "    print(i)"
   ]
  },
  {
   "cell_type": "code",
   "execution_count": 10,
   "id": "b754d68e",
   "metadata": {},
   "outputs": [
    {
     "name": "stdout",
     "output_type": "stream",
     "text": [
      "0\n",
      "5\n",
      "10\n",
      "15\n",
      "20\n",
      "25\n",
      "30\n",
      "35\n",
      "40\n",
      "45\n",
      "50\n",
      "55\n",
      "60\n",
      "65\n",
      "70\n",
      "75\n",
      "80\n",
      "85\n",
      "90\n",
      "95\n"
     ]
    }
   ],
   "source": [
    "for var in range(0,100,5):\n",
    "    print(var)"
   ]
  },
  {
   "cell_type": "code",
   "execution_count": 11,
   "id": "8c7c36ea",
   "metadata": {},
   "outputs": [
    {
     "name": "stdout",
     "output_type": "stream",
     "text": [
      "a\n",
      "b\n",
      "c\n",
      "d\n"
     ]
    }
   ],
   "source": [
    "x='abcd'\n",
    "\n",
    "for a in x:\n",
    "    print(a)"
   ]
  },
  {
   "cell_type": "code",
   "execution_count": 19,
   "id": "ffbccd90",
   "metadata": {},
   "outputs": [
    {
     "name": "stdout",
     "output_type": "stream",
     "text": [
      "b:98\n",
      "a:97\n",
      "n:110\n",
      "g:103\n",
      "a:97\n",
      "l:108\n",
      "o:111\n",
      "r:114\n",
      "e:101\n",
      "['b', 'a', 'n', 'g', 'a', 'l', 'o', 'r', 'e']\n",
      "[98, 97, 110, 103, 97, 108, 111, 114, 101]\n"
     ]
    }
   ],
   "source": [
    "a = \"bangalore\"\n",
    "name=[]\n",
    "list=[]\n",
    "\n",
    "for i in a:\n",
    "    print(f'{i}:{ord(i)}')\n",
    "    name.append(i)\n",
    "    list.append(ord(i))\n",
    "\n",
    "print(name)\n",
    "print(list)\n",
    "    "
   ]
  },
  {
   "cell_type": "code",
   "execution_count": 25,
   "id": "0be1f16a",
   "metadata": {},
   "outputs": [
    {
     "name": "stdout",
     "output_type": "stream",
     "text": [
      "5x1=5\n",
      "5x2=10\n",
      "5x3=15\n",
      "5x4=20\n",
      "5x5=25\n",
      "5x6=30\n",
      "5x7=35\n",
      "5x8=40\n",
      "5x9=45\n",
      "5x10=50\n"
     ]
    }
   ],
   "source": [
    "for i in range(0,10):\n",
    "    print(f'5x{i+1}={5*(i+1)}')"
   ]
  },
  {
   "cell_type": "code",
   "execution_count": 31,
   "id": "aaa4563c",
   "metadata": {},
   "outputs": [
    {
     "name": "stdout",
     "output_type": "stream",
     "text": [
      "15\n"
     ]
    }
   ],
   "source": [
    "sum=0\n",
    "\n",
    "for i in range(1,6):\n",
    "    sum+=i\n",
    "    \n",
    "print(sum)"
   ]
  },
  {
   "cell_type": "code",
   "execution_count": null,
   "id": "346ba0a7",
   "metadata": {},
   "outputs": [],
   "source": [
    "# print sum of n numbers with (for , while)\n",
    "# factorial of number 3 3!=1*2*3"
   ]
  }
 ],
 "metadata": {
  "kernelspec": {
   "display_name": "base",
   "language": "python",
   "name": "python3"
  },
  "language_info": {
   "codemirror_mode": {
    "name": "ipython",
    "version": 3
   },
   "file_extension": ".py",
   "mimetype": "text/x-python",
   "name": "python",
   "nbconvert_exporter": "python",
   "pygments_lexer": "ipython3",
   "version": "3.11.7"
  }
 },
 "nbformat": 4,
 "nbformat_minor": 5
}
