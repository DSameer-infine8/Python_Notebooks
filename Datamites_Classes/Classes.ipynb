{
  "cells": [
    {
      "cell_type": "markdown",
      "id": "e48def95-1d01-4e79-bd4b-98ed8b502abb",
      "metadata": {
        "id": "e48def95-1d01-4e79-bd4b-98ed8b502abb"
      },
      "source": [
        "# Day-1"
      ]
    },
    {
      "cell_type": "markdown",
      "id": "c88e0e69-51cc-4113-8e8c-96c43ba5df1d",
      "metadata": {
        "id": "c88e0e69-51cc-4113-8e8c-96c43ba5df1d"
      },
      "source": [
        "- setting-up our own environment for different projects."
      ]
    },
    {
      "cell_type": "code",
      "execution_count": null,
      "id": "d2d8a481-f65c-449e-9701-d5d3274ae9ac",
      "metadata": {
        "id": "d2d8a481-f65c-449e-9701-d5d3274ae9ac",
        "outputId": "d65496ca-602e-4307-afc1-c3c410cd454c"
      },
      "outputs": [
        {
          "name": "stdout",
          "output_type": "stream",
          "text": [
            "Hello,World\n"
          ]
        }
      ],
      "source": [
        "print(\"Hello,World\")"
      ]
    },
    {
      "cell_type": "markdown",
      "id": "8d08d3d2-5c45-4cd0-b413-0593f3fd06a1",
      "metadata": {
        "id": "8d08d3d2-5c45-4cd0-b413-0593f3fd06a1"
      },
      "source": [
        "## PYTHON\n",
        "- It is Case Sensitive"
      ]
    },
    {
      "cell_type": "code",
      "execution_count": null,
      "id": "653002c6-366a-4ebe-942a-42200dfce488",
      "metadata": {
        "id": "653002c6-366a-4ebe-942a-42200dfce488",
        "outputId": "fb466d5c-e41b-4dc5-9944-09e43333e743"
      },
      "outputs": [
        {
          "data": {
            "text/plain": [
              "83"
            ]
          },
          "execution_count": 2,
          "metadata": {},
          "output_type": "execute_result"
        }
      ],
      "source": [
        "ord('S')"
      ]
    },
    {
      "cell_type": "code",
      "execution_count": null,
      "id": "aaf57dbd-3b7e-44c0-91ff-0cfe5fe01fa7",
      "metadata": {
        "id": "aaf57dbd-3b7e-44c0-91ff-0cfe5fe01fa7",
        "outputId": "48d01993-717b-439c-eb4a-9070eab7474d"
      },
      "outputs": [
        {
          "data": {
            "text/plain": [
              "115"
            ]
          },
          "execution_count": 3,
          "metadata": {},
          "output_type": "execute_result"
        }
      ],
      "source": [
        "ord('s')"
      ]
    },
    {
      "cell_type": "code",
      "execution_count": null,
      "id": "0bdd68f3-0ab1-475d-8de5-f48a66a83874",
      "metadata": {
        "id": "0bdd68f3-0ab1-475d-8de5-f48a66a83874",
        "outputId": "b7a90bea-bc06-42ec-bbde-bcbca19c7a3e"
      },
      "outputs": [
        {
          "ename": "TypeError",
          "evalue": "ord() expected a character, but string of length 6 found",
          "output_type": "error",
          "traceback": [
            "\u001b[1;31m---------------------------------------------------------------------------\u001b[0m",
            "\u001b[1;31mTypeError\u001b[0m                                 Traceback (most recent call last)",
            "Cell \u001b[1;32mIn[4], line 1\u001b[0m\n\u001b[1;32m----> 1\u001b[0m \u001b[38;5;28mord\u001b[39m(\u001b[38;5;124m'\u001b[39m\u001b[38;5;124msameer\u001b[39m\u001b[38;5;124m'\u001b[39m)\n",
            "\u001b[1;31mTypeError\u001b[0m: ord() expected a character, but string of length 6 found"
          ]
        }
      ],
      "source": [
        "ord('sameer')"
      ]
    },
    {
      "cell_type": "markdown",
      "id": "cea378ab-1948-472e-a1e3-9caf13ced46a",
      "metadata": {
        "id": "cea378ab-1948-472e-a1e3-9caf13ced46a"
      },
      "source": [
        "### Data Types\n",
        "- int float bool str"
      ]
    },
    {
      "cell_type": "markdown",
      "id": "1079aea6-2e19-4a33-8637-d3c042b8fa4a",
      "metadata": {
        "id": "1079aea6-2e19-4a33-8637-d3c042b8fa4a"
      },
      "source": [
        "- check data type \"print(type(check))\""
      ]
    },
    {
      "cell_type": "code",
      "execution_count": null,
      "id": "290604e2-bf88-4f0f-b895-fbf6a44962fe",
      "metadata": {
        "id": "290604e2-bf88-4f0f-b895-fbf6a44962fe",
        "outputId": "db3bd9a8-7c75-467e-e7e0-aa7ba6138c8e"
      },
      "outputs": [
        {
          "name": "stdout",
          "output_type": "stream",
          "text": [
            "<class 'float'>\n"
          ]
        }
      ],
      "source": [
        "print(type(0.44))"
      ]
    },
    {
      "cell_type": "code",
      "execution_count": null,
      "id": "97e31422-ea78-48a4-9ba6-711f72d67a2c",
      "metadata": {
        "id": "97e31422-ea78-48a4-9ba6-711f72d67a2c",
        "outputId": "7ab9c348-a29b-4bc8-833f-a8187fa3a10c"
      },
      "outputs": [
        {
          "name": "stdout",
          "output_type": "stream",
          "text": [
            "<class 'float'>\n"
          ]
        }
      ],
      "source": [
        "print(type(00.44))"
      ]
    },
    {
      "cell_type": "code",
      "execution_count": null,
      "id": "58977c4e-55cc-4e80-b692-30f991acb524",
      "metadata": {
        "id": "58977c4e-55cc-4e80-b692-30f991acb524",
        "outputId": "30afafc0-5ca3-46fb-e617-894449333f47"
      },
      "outputs": [
        {
          "ename": "SyntaxError",
          "evalue": "invalid syntax. Perhaps you forgot a comma? (2021378794.py, line 1)",
          "output_type": "error",
          "traceback": [
            "\u001b[1;36m  Cell \u001b[1;32mIn[7], line 1\u001b[1;36m\u001b[0m\n\u001b[1;33m    print(type(0.4.4))\u001b[0m\n\u001b[1;37m               ^\u001b[0m\n\u001b[1;31mSyntaxError\u001b[0m\u001b[1;31m:\u001b[0m invalid syntax. Perhaps you forgot a comma?\n"
          ]
        }
      ],
      "source": [
        "print(type(0.4.4))"
      ]
    },
    {
      "cell_type": "code",
      "execution_count": null,
      "id": "c5d7a12d-bb3a-4519-b4d5-6529c2bbbfb2",
      "metadata": {
        "id": "c5d7a12d-bb3a-4519-b4d5-6529c2bbbfb2",
        "outputId": "c98b8d82-1ce0-472b-dd12-456a38755e0d"
      },
      "outputs": [
        {
          "ename": "NameError",
          "evalue": "name 'true' is not defined",
          "output_type": "error",
          "traceback": [
            "\u001b[1;31m---------------------------------------------------------------------------\u001b[0m",
            "\u001b[1;31mNameError\u001b[0m                                 Traceback (most recent call last)",
            "Cell \u001b[1;32mIn[8], line 1\u001b[0m\n\u001b[1;32m----> 1\u001b[0m \u001b[38;5;28mprint\u001b[39m(\u001b[38;5;28mtype\u001b[39m(true))\n",
            "\u001b[1;31mNameError\u001b[0m: name 'true' is not defined"
          ]
        }
      ],
      "source": [
        "print(type(true))"
      ]
    },
    {
      "cell_type": "code",
      "execution_count": null,
      "id": "ab3ce76a-2f72-4901-b7e8-d92d8a302653",
      "metadata": {
        "id": "ab3ce76a-2f72-4901-b7e8-d92d8a302653",
        "outputId": "32fdfa1d-9f70-43da-9d94-c1e3bd0a638f"
      },
      "outputs": [
        {
          "name": "stdout",
          "output_type": "stream",
          "text": [
            "<class 'bool'>\n"
          ]
        }
      ],
      "source": [
        "print(type(5==5))"
      ]
    },
    {
      "cell_type": "code",
      "execution_count": null,
      "id": "e7fc01ee-8f2b-461f-ab4c-e2e976179266",
      "metadata": {
        "id": "e7fc01ee-8f2b-461f-ab4c-e2e976179266",
        "outputId": "436dc5c7-4ee9-4e9b-d022-54c9bc0337b3"
      },
      "outputs": [
        {
          "ename": "TypeError",
          "evalue": "type() takes 1 or 3 arguments",
          "output_type": "error",
          "traceback": [
            "\u001b[31m---------------------------------------------------------------------------\u001b[39m",
            "\u001b[31mTypeError\u001b[39m                                 Traceback (most recent call last)",
            "\u001b[36mCell\u001b[39m\u001b[36m \u001b[39m\u001b[32mIn[11]\u001b[39m\u001b[32m, line 1\u001b[39m\n\u001b[32m----> \u001b[39m\u001b[32m1\u001b[39m \u001b[38;5;28mprint\u001b[39m(\u001b[38;5;28mtype\u001b[39m(\u001b[32m1\u001b[39m,\u001b[32m0.44\u001b[39m))\n",
            "\u001b[31mTypeError\u001b[39m: type() takes 1 or 3 arguments"
          ]
        }
      ],
      "source": [
        "print(type(1,0.44))"
      ]
    },
    {
      "cell_type": "code",
      "execution_count": null,
      "id": "7cde24e2-dc11-41f7-8df9-34c9759c3c5d",
      "metadata": {
        "id": "7cde24e2-dc11-41f7-8df9-34c9759c3c5d",
        "outputId": "1de85ac2-fca6-444d-c927-cdf5dc23496c"
      },
      "outputs": [
        {
          "ename": "TypeError",
          "evalue": "type.__new__() argument 1 must be str, not int",
          "output_type": "error",
          "traceback": [
            "\u001b[31m---------------------------------------------------------------------------\u001b[39m",
            "\u001b[31mTypeError\u001b[39m                                 Traceback (most recent call last)",
            "\u001b[36mCell\u001b[39m\u001b[36m \u001b[39m\u001b[32mIn[12]\u001b[39m\u001b[32m, line 1\u001b[39m\n\u001b[32m----> \u001b[39m\u001b[32m1\u001b[39m \u001b[38;5;28mprint\u001b[39m(\u001b[38;5;28mtype\u001b[39m(\u001b[32m1\u001b[39m,\u001b[32m0.44\u001b[39m,\u001b[33m\"\u001b[39m\u001b[33ma\u001b[39m\u001b[33m\"\u001b[39m))\n",
            "\u001b[31mTypeError\u001b[39m: type.__new__() argument 1 must be str, not int"
          ]
        }
      ],
      "source": [
        "print(type(1,0.44,\"a\"))"
      ]
    },
    {
      "cell_type": "markdown",
      "id": "63b83d06",
      "metadata": {
        "id": "63b83d06"
      },
      "source": [
        "# Day-2"
      ]
    },
    {
      "cell_type": "code",
      "execution_count": null,
      "id": "8a13992c",
      "metadata": {
        "id": "8a13992c",
        "outputId": "ed5ad241-aa39-4ecf-d6a1-7092333705fa"
      },
      "outputs": [
        {
          "name": "stdout",
          "output_type": "stream",
          "text": [
            "S\n"
          ]
        }
      ],
      "source": [
        "str1=\"Sameer\"\n",
        "print(str1[0])"
      ]
    },
    {
      "cell_type": "code",
      "execution_count": null,
      "id": "65f3ba57",
      "metadata": {
        "id": "65f3ba57",
        "outputId": "0a79d728-26a5-4495-9a25-62dd7297af94"
      },
      "outputs": [
        {
          "name": "stdout",
          "output_type": "stream",
          "text": [
            "Sam\n"
          ]
        }
      ],
      "source": [
        "print(str1[0:3])"
      ]
    },
    {
      "cell_type": "code",
      "execution_count": null,
      "id": "52662a28",
      "metadata": {
        "id": "52662a28",
        "outputId": "f0bf314e-65e5-4f88-c62e-e9f3c186ee64"
      },
      "outputs": [
        {
          "name": "stdout",
          "output_type": "stream",
          "text": [
            "reemaS\n"
          ]
        }
      ],
      "source": [
        "print(str1[:-7:-1])"
      ]
    },
    {
      "cell_type": "markdown",
      "id": "6cb9027c",
      "metadata": {
        "id": "6cb9027c"
      },
      "source": [
        "## Varibles"
      ]
    },
    {
      "cell_type": "code",
      "execution_count": null,
      "id": "3d4caf2e",
      "metadata": {
        "id": "3d4caf2e"
      },
      "outputs": [],
      "source": [
        "string1= 123\n",
        "volume=22\n",
        "name='Sam'\n",
        "session=2\n",
        "ok=4.44"
      ]
    },
    {
      "cell_type": "code",
      "execution_count": null,
      "id": "e8f6cb22",
      "metadata": {
        "id": "e8f6cb22",
        "outputId": "33727746-438d-4b3a-e3dd-bd568bcedc7b"
      },
      "outputs": [
        {
          "name": "stdout",
          "output_type": "stream",
          "text": [
            "Sam\n"
          ]
        }
      ],
      "source": [
        "print(name)"
      ]
    },
    {
      "cell_type": "code",
      "execution_count": null,
      "id": "52bfacfd",
      "metadata": {
        "id": "52bfacfd",
        "outputId": "d597ea1d-e26c-43bd-ced6-1a6282071a0a"
      },
      "outputs": [
        {
          "name": "stdout",
          "output_type": "stream",
          "text": [
            "12\n"
          ]
        }
      ],
      "source": [
        "#Override\n",
        "a=10\n",
        "a=11\n",
        "a=12\n",
        "\n",
        "print(a)"
      ]
    },
    {
      "cell_type": "code",
      "execution_count": null,
      "id": "171b140c",
      "metadata": {
        "id": "171b140c",
        "outputId": "813d40fe-ef3a-411b-efc1-42b3d2e83af1"
      },
      "outputs": [
        {
          "name": "stdout",
          "output_type": "stream",
          "text": [
            "5 10 15\n"
          ]
        }
      ],
      "source": [
        "#Print values of 5,10,15 to the variables a b and c at single line\n",
        "a,b,c =5,10,15\n",
        "\n",
        "print(a,b,c)"
      ]
    },
    {
      "cell_type": "code",
      "execution_count": null,
      "id": "ba43d1f9",
      "metadata": {
        "id": "ba43d1f9",
        "outputId": "7346f792-8408-4101-e57b-69990cfb2c9d"
      },
      "outputs": [
        {
          "ename": "ValueError",
          "evalue": "too many values to unpack (expected 2)",
          "output_type": "error",
          "traceback": [
            "\u001b[1;31m---------------------------------------------------------------------------\u001b[0m",
            "\u001b[1;31mValueError\u001b[0m                                Traceback (most recent call last)",
            "Cell \u001b[1;32mIn[17], line 1\u001b[0m\n\u001b[1;32m----> 1\u001b[0m a,b \u001b[38;5;241m=\u001b[39m\u001b[38;5;241m5\u001b[39m,\u001b[38;5;241m10\u001b[39m,\u001b[38;5;241m15\u001b[39m\n",
            "\u001b[1;31mValueError\u001b[0m: too many values to unpack (expected 2)"
          ]
        }
      ],
      "source": [
        "a,b =5,10,15"
      ]
    },
    {
      "cell_type": "code",
      "execution_count": null,
      "id": "154d7e89",
      "metadata": {
        "id": "154d7e89"
      },
      "outputs": [],
      "source": [
        "a =5,10,15"
      ]
    },
    {
      "cell_type": "code",
      "execution_count": null,
      "id": "2697d712",
      "metadata": {
        "id": "2697d712",
        "outputId": "f4fda838-e85e-4d40-aa22-f43eaafee0c3"
      },
      "outputs": [
        {
          "name": "stdout",
          "output_type": "stream",
          "text": [
            "(5, 10, 15)\n"
          ]
        }
      ],
      "source": [
        "print(a)"
      ]
    },
    {
      "cell_type": "code",
      "execution_count": null,
      "id": "868e515e",
      "metadata": {
        "id": "868e515e",
        "outputId": "f5cba84c-74f5-47a7-edf8-b3bfe530153f"
      },
      "outputs": [
        {
          "name": "stdout",
          "output_type": "stream",
          "text": [
            "50\n"
          ]
        }
      ],
      "source": [
        "intro='Hello my name is Sameer. Learning Basics of python'\n",
        "print(len(intro))"
      ]
    },
    {
      "cell_type": "markdown",
      "id": "33e8d073",
      "metadata": {
        "id": "33e8d073"
      },
      "source": [
        "### Splice"
      ]
    },
    {
      "cell_type": "code",
      "execution_count": null,
      "id": "27eee4b7",
      "metadata": {
        "id": "27eee4b7",
        "outputId": "7636890a-3ef8-492e-9992-18841e5eb9d9"
      },
      "outputs": [
        {
          "name": "stdout",
          "output_type": "stream",
          "text": [
            "lo my name is\n"
          ]
        }
      ],
      "source": [
        "print(intro[3:16]) #Slice"
      ]
    },
    {
      "cell_type": "code",
      "execution_count": null,
      "id": "ab9298da",
      "metadata": {
        "id": "ab9298da",
        "outputId": "1954287c-f268-4b8b-c7c2-15f63287c3a1"
      },
      "outputs": [
        {
          "name": "stdout",
          "output_type": "stream",
          "text": [
            "['Hello', 'my', 'name', 'is', 'Sameer.', 'Learning', 'Basics', 'of', 'python']\n"
          ]
        }
      ],
      "source": [
        "print(intro.split()) #Split"
      ]
    },
    {
      "cell_type": "code",
      "execution_count": null,
      "id": "a077cc29",
      "metadata": {
        "id": "a077cc29"
      },
      "outputs": [],
      "source": [
        "name=\"Thalapathy Vijay\""
      ]
    },
    {
      "cell_type": "code",
      "execution_count": null,
      "id": "40a31398",
      "metadata": {
        "id": "40a31398",
        "outputId": "d17996db-8354-42bd-c89b-9dfe7a97d42d"
      },
      "outputs": [
        {
          "data": {
            "text/plain": [
              "'yajiV yhtapalahT'"
            ]
          },
          "execution_count": 24,
          "metadata": {},
          "output_type": "execute_result"
        }
      ],
      "source": [
        "name[::-1]"
      ]
    },
    {
      "cell_type": "code",
      "execution_count": null,
      "id": "a434ca46",
      "metadata": {
        "id": "a434ca46",
        "outputId": "a61a68e1-0e64-4a05-e432-c2a386341269"
      },
      "outputs": [
        {
          "data": {
            "text/plain": [
              "'Thalapathy'"
            ]
          },
          "execution_count": 25,
          "metadata": {},
          "output_type": "execute_result"
        }
      ],
      "source": [
        "name[-16:-6]   #'Thalapathy'"
      ]
    },
    {
      "cell_type": "markdown",
      "id": "db20eae0",
      "metadata": {
        "id": "db20eae0"
      },
      "source": [
        "- Type Casting: Converting from one data type to another data type"
      ]
    },
    {
      "cell_type": "code",
      "execution_count": null,
      "id": "53606d73",
      "metadata": {
        "id": "53606d73",
        "outputId": "0b151af4-3c86-458e-9103-90a922a4127a"
      },
      "outputs": [
        {
          "name": "stdout",
          "output_type": "stream",
          "text": [
            "88.0\n",
            "88\n",
            "True\n"
          ]
        }
      ],
      "source": [
        "hello= 88\n",
        "\n",
        "print(float(hello))\n",
        "print(str(hello))\n",
        "print(bool(hello))"
      ]
    },
    {
      "cell_type": "code",
      "execution_count": null,
      "id": "e8aea913",
      "metadata": {
        "id": "e8aea913"
      },
      "outputs": [],
      "source": [
        "now= 4.44\n",
        "\n",
        "print(int(now))\n",
        "print(str(now))\n",
        "print(bool(now))"
      ]
    },
    {
      "cell_type": "code",
      "execution_count": null,
      "id": "bd6aa69e",
      "metadata": {
        "id": "bd6aa69e"
      },
      "outputs": [],
      "source": [
        "str1 = \"sameer\"\n",
        "\n",
        "print(int(str1))\n",
        "print(float(str1))"
      ]
    },
    {
      "cell_type": "code",
      "execution_count": null,
      "id": "1f1e8335",
      "metadata": {
        "id": "1f1e8335"
      },
      "outputs": [],
      "source": [
        "str1 = \"1234\"\n",
        "\n",
        "print(int(str1))\n",
        "print(float(str1))"
      ]
    },
    {
      "cell_type": "code",
      "execution_count": null,
      "id": "9dfd6452",
      "metadata": {
        "id": "9dfd6452"
      },
      "outputs": [],
      "source": [
        "a,b = 45,55\n",
        "print(a+b)"
      ]
    },
    {
      "cell_type": "code",
      "execution_count": null,
      "id": "83a84e79",
      "metadata": {
        "id": "83a84e79"
      },
      "outputs": [],
      "source": [
        "a= int(input(print(\"Give me a number:\")))\n",
        "b= int(input(print('Give me b number:')))\n",
        "print(f\"Sum of {a} and {b}: {a+b}\")"
      ]
    },
    {
      "cell_type": "markdown",
      "id": "f76ad550",
      "metadata": {
        "id": "f76ad550"
      },
      "source": [
        "- Read about Split,Strip and Join"
      ]
    },
    {
      "cell_type": "markdown",
      "id": "eec077a6",
      "metadata": {
        "id": "eec077a6"
      },
      "source": [
        "# Day-3"
      ]
    },
    {
      "cell_type": "markdown",
      "id": "edaa855b",
      "metadata": {
        "id": "edaa855b"
      },
      "source": [
        "## Strings"
      ]
    },
    {
      "cell_type": "code",
      "execution_count": null,
      "id": "0a439f2d",
      "metadata": {
        "id": "0a439f2d",
        "outputId": "03e05b81-4450-43a9-fc92-f6107bc5da8b"
      },
      "outputs": [
        {
          "name": "stdout",
          "output_type": "stream",
          "text": [
            "sam\n"
          ]
        }
      ],
      "source": [
        "name = \"SAM\"\n",
        "print(name.lower())"
      ]
    },
    {
      "cell_type": "code",
      "execution_count": null,
      "id": "d56f912a",
      "metadata": {
        "id": "d56f912a",
        "outputId": "7aee6336-17a3-409d-d04c-7d0164dc7cd9"
      },
      "outputs": [
        {
          "name": "stdout",
          "output_type": "stream",
          "text": [
            "Hello my name is sameer. can i know ur name\n"
          ]
        }
      ],
      "source": [
        "intro = \"hello my name is sameer. can i know ur name\"\n",
        "print(intro.capitalize())"
      ]
    },
    {
      "cell_type": "code",
      "execution_count": null,
      "id": "72450ff7",
      "metadata": {
        "id": "72450ff7",
        "outputId": "8fa649fc-b2a3-4154-c9e4-c53ff15b303f"
      },
      "outputs": [
        {
          "name": "stdout",
          "output_type": "stream",
          "text": [
            "Hello My Name Is Sameer. Can I Know Ur Name\n"
          ]
        }
      ],
      "source": [
        "print(intro.title())"
      ]
    },
    {
      "cell_type": "code",
      "execution_count": null,
      "id": "bcd72d40",
      "metadata": {
        "id": "bcd72d40",
        "outputId": "b2e6a96a-eb81-4309-952b-f5c35a136ff8"
      },
      "outputs": [
        {
          "name": "stdout",
          "output_type": "stream",
          "text": [
            "hello my name is sameer. i want to know ur name\n"
          ]
        }
      ],
      "source": [
        "print(intro.replace(\"can i\",\"i want to\"))"
      ]
    },
    {
      "cell_type": "code",
      "execution_count": null,
      "id": "5694b325",
      "metadata": {
        "id": "5694b325",
        "outputId": "62c3d66d-0638-4810-b157-79da3a615b5b"
      },
      "outputs": [
        {
          "name": "stdout",
          "output_type": "stream",
          "text": [
            "17\n"
          ]
        }
      ],
      "source": [
        "print(intro.find(\"sameer\"))  #gives index value"
      ]
    },
    {
      "cell_type": "code",
      "execution_count": null,
      "id": "2ab5aa6f",
      "metadata": {
        "id": "2ab5aa6f",
        "outputId": "c6b45bd1-067b-4dbe-fe03-fe4fda19247a"
      },
      "outputs": [
        {
          "data": {
            "text/plain": [
              "False"
            ]
          },
          "execution_count": 16,
          "metadata": {},
          "output_type": "execute_result"
        }
      ],
      "source": [
        "a='123'\n",
        "a.isalpha()"
      ]
    },
    {
      "cell_type": "code",
      "execution_count": null,
      "id": "2dc9d5f8",
      "metadata": {
        "id": "2dc9d5f8",
        "outputId": "b9cdc480-6947-43c7-d899-7a726b0e98df"
      },
      "outputs": [
        {
          "data": {
            "text/plain": [
              "True"
            ]
          },
          "execution_count": 18,
          "metadata": {},
          "output_type": "execute_result"
        }
      ],
      "source": [
        "a.isalnum()"
      ]
    },
    {
      "cell_type": "code",
      "execution_count": null,
      "id": "a83d2ec7",
      "metadata": {
        "id": "a83d2ec7",
        "outputId": "2cbbd323-0595-43b2-d848-8969c6f19fb8"
      },
      "outputs": [
        {
          "name": "stdout",
          "output_type": "stream",
          "text": [
            "w   efff\n"
          ]
        }
      ],
      "source": [
        "ok = \"    w   efff   \"\n",
        "print(ok.strip())"
      ]
    },
    {
      "cell_type": "code",
      "execution_count": null,
      "id": "7308c808",
      "metadata": {
        "id": "7308c808",
        "outputId": "4c482c6f-8f6e-4e12-894c-b5f5e6b5d1f7"
      },
      "outputs": [
        {
          "name": "stdout",
          "output_type": "stream",
          "text": [
            "w   efff   \n"
          ]
        }
      ],
      "source": [
        "print(ok.lstrip())"
      ]
    },
    {
      "cell_type": "code",
      "execution_count": null,
      "id": "59f17ebb",
      "metadata": {
        "id": "59f17ebb",
        "outputId": "b2ec9ae7-706c-4ba7-9308-475b9c150f55"
      },
      "outputs": [
        {
          "data": {
            "text/plain": [
              "', h e r e   h e   c o m e s'"
            ]
          },
          "execution_count": 27,
          "metadata": {},
          "output_type": "execute_result"
        }
      ],
      "source": [
        "he = \",here he comes\"\n",
        "' '.join(he)"
      ]
    },
    {
      "cell_type": "code",
      "execution_count": null,
      "id": "28eb5de5",
      "metadata": {
        "id": "28eb5de5",
        "outputId": "c560d25a-3f81-4278-dc0b-a5c3c000ab31"
      },
      "outputs": [
        {
          "data": {
            "text/plain": [
              "'1,2,3,4,5'"
            ]
          },
          "execution_count": 29,
          "metadata": {},
          "output_type": "execute_result"
        }
      ],
      "source": [
        "lists=['1','2','3','4','5']\n",
        "','.join(lists)"
      ]
    },
    {
      "cell_type": "code",
      "execution_count": null,
      "id": "75ea5537",
      "metadata": {
        "id": "75ea5537",
        "outputId": "075d6e66-a56a-41d9-cbf2-de9ce6c04008"
      },
      "outputs": [
        {
          "data": {
            "text/plain": [
              "'[\"1\",\" \"2\",\" \"3\",\" \"4\",\" \"5\",\" \"6\"]'"
            ]
          },
          "execution_count": 31,
          "metadata": {},
          "output_type": "execute_result"
        }
      ],
      "source": [
        "lists = [1,2,3,4,5,6]\n",
        "strlist = str(lists)\n",
        "'\"'.join(strlist)"
      ]
    },
    {
      "cell_type": "code",
      "execution_count": null,
      "id": "76ace3c9",
      "metadata": {
        "id": "76ace3c9",
        "outputId": "bc3dffc7-32a8-44bf-b860-f34602db38e0"
      },
      "outputs": [
        {
          "name": "stdout",
          "output_type": "stream",
          "text": [
            "[6, 5, 4, 3, 2, 1]\n"
          ]
        }
      ],
      "source": [
        "print(lists[::-1])"
      ]
    },
    {
      "cell_type": "code",
      "execution_count": null,
      "id": "76a73251",
      "metadata": {
        "id": "76a73251",
        "outputId": "ec56476e-3355-4955-8d96-51103d52956b"
      },
      "outputs": [
        {
          "data": {
            "text/plain": [
              "'aaaaaaaaaaaaaaaaaaaaaa&bbbbbbbbbbbbbbbbbbbbbbbbbbbbbbbbbbb&cccccccccccccccccccccccccccc'"
            ]
          },
          "execution_count": 35,
          "metadata": {},
          "output_type": "execute_result"
        }
      ],
      "source": [
        "a = \"aaaaaaaaaaaaaaaaaaaaaaGbbbbbbbbbbbbbbbbbbbbbbbbbbbbbbbbbbbGcccccccccccccccccccccccccccc\"\n",
        "a.replace(\"G\",\"&\")"
      ]
    },
    {
      "cell_type": "code",
      "execution_count": null,
      "id": "f514c585",
      "metadata": {
        "id": "f514c585",
        "outputId": "4fe9b07c-2271-4dec-fe99-36726d4a9750"
      },
      "outputs": [
        {
          "data": {
            "text/plain": [
              "22"
            ]
          },
          "execution_count": 39,
          "metadata": {},
          "output_type": "execute_result"
        }
      ],
      "source": [
        "a.find(\"G\")"
      ]
    },
    {
      "cell_type": "code",
      "execution_count": null,
      "id": "80f4ab46",
      "metadata": {
        "id": "80f4ab46",
        "outputId": "9332c5cc-4ecc-4c9f-95f0-6b29a6013aa5"
      },
      "outputs": [
        {
          "data": {
            "text/plain": [
              "87"
            ]
          },
          "execution_count": 43,
          "metadata": {},
          "output_type": "execute_result"
        }
      ],
      "source": [
        "len(a)"
      ]
    },
    {
      "cell_type": "markdown",
      "id": "62b0639d",
      "metadata": {
        "id": "62b0639d"
      },
      "source": [
        "## - Data Structures\n",
        "\n",
        "- mutable\n",
        "- immutable"
      ]
    },
    {
      "cell_type": "code",
      "execution_count": null,
      "id": "62c9d82c",
      "metadata": {
        "id": "62c9d82c",
        "outputId": "166331b3-e0c2-4ddb-bdf9-c82cb4c3deca"
      },
      "outputs": [
        {
          "name": "stdout",
          "output_type": "stream",
          "text": [
            "(1, 2, 3)\n",
            "<class 'tuple'>\n"
          ]
        }
      ],
      "source": [
        "a=1,2,3\n",
        "print(a)\n",
        "print(type(a))"
      ]
    },
    {
      "cell_type": "code",
      "execution_count": null,
      "id": "97dc2018",
      "metadata": {
        "id": "97dc2018",
        "outputId": "255e80a4-4ab6-477a-b961-235c85f3e85b"
      },
      "outputs": [
        {
          "name": "stdout",
          "output_type": "stream",
          "text": [
            "<class 'list'>\n"
          ]
        }
      ],
      "source": [
        "x=[(1),[2],(3)]\n",
        "print(type(x))"
      ]
    },
    {
      "cell_type": "code",
      "execution_count": null,
      "id": "f8641252",
      "metadata": {
        "id": "f8641252",
        "outputId": "1e991b1b-e3e3-49fa-be6f-a453a951a786"
      },
      "outputs": [
        {
          "name": "stdout",
          "output_type": "stream",
          "text": [
            "sahu\n"
          ]
        }
      ],
      "source": [
        "abc=[3,4,(11,12,13,['rahul','ravi',('man',['sammy','sahu'],98)],56)]\n",
        "type(abc)\n",
        "print(abc[2][3][2][1][1])"
      ]
    },
    {
      "cell_type": "code",
      "execution_count": null,
      "id": "9629ca88",
      "metadata": {
        "id": "9629ca88",
        "outputId": "801722a1-c934-4f33-f56f-ab7fc12c0176"
      },
      "outputs": [
        {
          "name": "stdout",
          "output_type": "stream",
          "text": [
            "[3, 4, (11, 12, 13, ['rahul', 'ravi', ('man', ['sammy', 'sahu'], 98)], 56), 'hello']\n"
          ]
        }
      ],
      "source": [
        "abc.append(\"hello\")\n",
        "print(abc)"
      ]
    },
    {
      "cell_type": "code",
      "execution_count": null,
      "id": "941dfe70",
      "metadata": {
        "id": "941dfe70",
        "outputId": "a3f50fd3-4e8d-4311-cf35-16029e09a169"
      },
      "outputs": [
        {
          "name": "stdout",
          "output_type": "stream",
          "text": [
            "[3, 4, 'added', (11, 12, 13, ['rahul', 'ravi', ('man', ['sammy', 'sahu'], 98)], 56), 'hello']\n"
          ]
        }
      ],
      "source": [
        "abc.insert(2,\"added\")\n",
        "print(abc)"
      ]
    },
    {
      "cell_type": "code",
      "execution_count": null,
      "id": "25e52aa2",
      "metadata": {
        "id": "25e52aa2",
        "outputId": "f9763d0a-6131-4a77-d101-13b45db16e2f"
      },
      "outputs": [
        {
          "name": "stdout",
          "output_type": "stream",
          "text": [
            "[3, 'added', (11, 12, 13, ['rahul', 'ravi', ('man', ['sammy', 'sahu'], 98)], 56), 'hello']\n"
          ]
        }
      ],
      "source": [
        "abc.remove(4)\n",
        "print(abc)"
      ]
    },
    {
      "cell_type": "code",
      "execution_count": null,
      "id": "dbf24be5",
      "metadata": {
        "id": "dbf24be5",
        "outputId": "bda5e4aa-3fa4-487f-d77c-9f9963889409"
      },
      "outputs": [
        {
          "name": "stdout",
          "output_type": "stream",
          "text": [
            "[3, 'added', (11, 12, 13, ['rahul', 'ravi', ('man', ['sammy', 'sahu'], 98)], 56)]\n"
          ]
        }
      ],
      "source": [
        "abc.pop()\n",
        "print(abc)"
      ]
    },
    {
      "cell_type": "code",
      "execution_count": null,
      "id": "d792059c",
      "metadata": {
        "id": "d792059c",
        "outputId": "ca5fdc3e-1d89-47c3-bdba-0599d55e79a5"
      },
      "outputs": [
        {
          "name": "stdout",
          "output_type": "stream",
          "text": [
            "<class 'list'>\n",
            "[1, 12, 3, 4, 5, 2, 3, 1, 1, 1, 3, 4, 'r', 4, 3, 2]\n"
          ]
        }
      ],
      "source": [
        "a=[1,1,12,3,4,5,2,3,1,1,1,3,4,'r',4,3,2]\n",
        "a.remove(1)\n",
        "print(type(a))\n",
        "print(a)"
      ]
    },
    {
      "cell_type": "code",
      "execution_count": null,
      "id": "f1033555",
      "metadata": {
        "id": "f1033555",
        "outputId": "83bed8ad-8f77-4770-95b1-96a279dea1b6"
      },
      "outputs": [
        {
          "data": {
            "text/plain": [
              "4"
            ]
          },
          "execution_count": 64,
          "metadata": {},
          "output_type": "execute_result"
        }
      ],
      "source": [
        "a.pop(-3)"
      ]
    },
    {
      "cell_type": "markdown",
      "id": "53557773",
      "metadata": {
        "id": "53557773"
      },
      "source": [
        "## Day-4"
      ]
    },
    {
      "cell_type": "code",
      "execution_count": null,
      "id": "17393c53",
      "metadata": {
        "id": "17393c53"
      },
      "outputs": [],
      "source": [
        "# add 4 to list 1,2,3 with out defining a variable\n",
        "\n",
        "[1,2,3].append(4)"
      ]
    },
    {
      "cell_type": "code",
      "execution_count": null,
      "id": "d88fb3fc",
      "metadata": {
        "id": "d88fb3fc",
        "outputId": "23bb649d-91d9-4f43-b8bd-a382b2d8ed3f"
      },
      "outputs": [
        {
          "name": "stdout",
          "output_type": "stream",
          "text": [
            "[1, 2, 3, 4, 5]\n"
          ]
        }
      ],
      "source": [
        "a= [1,2,3]\n",
        "b=[4,5]\n",
        "a.extend(b) #or a.extend([4,5])\n",
        "print(a)"
      ]
    },
    {
      "cell_type": "code",
      "execution_count": null,
      "id": "b2c43d48",
      "metadata": {
        "id": "b2c43d48",
        "outputId": "81794f97-b632-4092-de81-81586114b49c"
      },
      "outputs": [
        {
          "name": "stdout",
          "output_type": "stream",
          "text": [
            "[]\n"
          ]
        }
      ],
      "source": [
        "a.clear()\n",
        "print(a)"
      ]
    },
    {
      "cell_type": "code",
      "execution_count": null,
      "id": "831388f3",
      "metadata": {
        "id": "831388f3",
        "outputId": "2a11297a-f608-44cf-e582-8a383d06bfc2"
      },
      "outputs": [
        {
          "name": "stdout",
          "output_type": "stream",
          "text": [
            "<class 'tuple'>\n"
          ]
        }
      ],
      "source": [
        "tuple= ('a','b','c','d')\n",
        "print(type(tuple))"
      ]
    },
    {
      "cell_type": "code",
      "execution_count": null,
      "id": "a3f80722",
      "metadata": {
        "id": "a3f80722",
        "outputId": "ef82b2e1-d289-414f-8b96-e2f7052cd293"
      },
      "outputs": [
        {
          "ename": "AttributeError",
          "evalue": "'tuple' object has no attribute 'remove'",
          "output_type": "error",
          "traceback": [
            "\u001b[1;31m---------------------------------------------------------------------------\u001b[0m",
            "\u001b[1;31mAttributeError\u001b[0m                            Traceback (most recent call last)",
            "Cell \u001b[1;32mIn[14], line 1\u001b[0m\n\u001b[1;32m----> 1\u001b[0m \u001b[38;5;28mtuple\u001b[39m\u001b[38;5;241m.\u001b[39mremove(\u001b[38;5;124m'\u001b[39m\u001b[38;5;124ma\u001b[39m\u001b[38;5;124m'\u001b[39m)\n",
            "\u001b[1;31mAttributeError\u001b[0m: 'tuple' object has no attribute 'remove'"
          ]
        }
      ],
      "source": [
        "tuple.remove('a') #.pop(),.append()   .hence tuple is immutable"
      ]
    },
    {
      "cell_type": "markdown",
      "id": "ada1e260",
      "metadata": {
        "id": "ada1e260"
      },
      "source": [
        "### Real life use cases of list and tuples\n",
        "- example, Tuple=Adhaar Card Number & List= Address"
      ]
    },
    {
      "cell_type": "code",
      "execution_count": null,
      "id": "3e0667d8",
      "metadata": {
        "id": "3e0667d8",
        "outputId": "7df687e3-b9dd-4a32-a454-360a5400751b"
      },
      "outputs": [
        {
          "name": "stdout",
          "output_type": "stream",
          "text": [
            "<class 'tuple'>\n",
            "<class 'list'>\n",
            "[2, 3, 4]\n"
          ]
        }
      ],
      "source": [
        "tuple=(2,3,4)\n",
        "print(type(tuple))\n",
        "b=list(tuple)\n",
        "print(type(b))\n",
        "print(b)"
      ]
    },
    {
      "cell_type": "code",
      "execution_count": null,
      "id": "b173b0e3",
      "metadata": {
        "id": "b173b0e3",
        "outputId": "df703ce1-bc88-4093-cb78-27a719d52da3"
      },
      "outputs": [
        {
          "name": "stdout",
          "output_type": "stream",
          "text": [
            "<class 'list'>\n"
          ]
        }
      ],
      "source": [
        "a=[]\n",
        "print(type(a))"
      ]
    },
    {
      "cell_type": "code",
      "execution_count": null,
      "id": "f49be50e",
      "metadata": {
        "id": "f49be50e",
        "outputId": "b3252dcb-dddc-47fa-b55e-f79497e77530"
      },
      "outputs": [
        {
          "name": "stdout",
          "output_type": "stream",
          "text": [
            "<class 'set'>\n"
          ]
        }
      ],
      "source": [
        "a={1,2,3,4}\n",
        "print(type(a))"
      ]
    },
    {
      "cell_type": "code",
      "execution_count": null,
      "id": "4d762123",
      "metadata": {
        "id": "4d762123",
        "outputId": "d3a7749e-9ade-4c85-9fa7-a8634548c9eb"
      },
      "outputs": [
        {
          "ename": "TypeError",
          "evalue": "'set' object is not subscriptable",
          "output_type": "error",
          "traceback": [
            "\u001b[1;31m---------------------------------------------------------------------------\u001b[0m",
            "\u001b[1;31mTypeError\u001b[0m                                 Traceback (most recent call last)",
            "Cell \u001b[1;32mIn[26], line 1\u001b[0m\n\u001b[1;32m----> 1\u001b[0m a[\u001b[38;5;241m2\u001b[39m]\n",
            "\u001b[1;31mTypeError\u001b[0m: 'set' object is not subscriptable"
          ]
        }
      ],
      "source": [
        "a[2]"
      ]
    },
    {
      "cell_type": "code",
      "execution_count": null,
      "id": "c6c64360",
      "metadata": {
        "id": "c6c64360",
        "outputId": "06363d9e-842c-4edc-e8d2-552a60c39d35"
      },
      "outputs": [
        {
          "name": "stdout",
          "output_type": "stream",
          "text": [
            "{1, 2, 3, 4, 68, 12, 45}\n",
            "{'s', 'a', 'c', 'd', 'b'}\n",
            "{1, 2, 3, 4, 5, 7, 'a', 'c', 'b'}\n"
          ]
        }
      ],
      "source": [
        "v={12,4,68,3,2,45,1,4}\n",
        "u={'s','a','b','d','c'}\n",
        "w={1,3,2,'a','c','b',5,7,4}\n",
        "print(v)\n",
        "print(u)\n",
        "print(w)"
      ]
    },
    {
      "cell_type": "markdown",
      "id": "06a7370c",
      "metadata": {
        "id": "06a7370c"
      },
      "source": [
        "### Difference between List,Tuples and Sets"
      ]
    },
    {
      "cell_type": "code",
      "execution_count": null,
      "id": "816688ee",
      "metadata": {
        "id": "816688ee",
        "outputId": "fc9d9fe0-81e5-4033-9b19-9236d4c762c0"
      },
      "outputs": [
        {
          "name": "stdout",
          "output_type": "stream",
          "text": [
            "[1, 1, 1, 1, 2, 2, 3, 3, 4, 5, 3, 2] (1, 1, 1, 1, 2, 2, 2, 3, 3, 4, 5, 3) {1, 2, 3, 4, 5}\n"
          ]
        }
      ],
      "source": [
        "x=[1,1,1,1,2,2,3,3,4,5,3,2]\n",
        "y=(1,1,1,1,2,2,2,3,3,4,5,3)\n",
        "z={1,1,1,1,2,2,2,2,3,3,4,5,5}  #Set does not allow duplicates\n",
        "\n",
        "print(x,y,z)"
      ]
    },
    {
      "cell_type": "code",
      "execution_count": null,
      "id": "22371f0a",
      "metadata": {
        "id": "22371f0a",
        "outputId": "019ba2ff-0554-45ee-d630-67ee67cbd3c1"
      },
      "outputs": [
        {
          "name": "stdout",
          "output_type": "stream",
          "text": [
            "{1, 2, 3, 4}\n"
          ]
        }
      ],
      "source": [
        "y={1,2,3}\n",
        "listy =list(y)\n",
        "listy.append(4)\n",
        "y=set(listy)\n",
        "print(y)"
      ]
    },
    {
      "cell_type": "code",
      "execution_count": null,
      "id": "de1bc493",
      "metadata": {
        "id": "de1bc493",
        "outputId": "7debcadc-fe86-496c-d4d4-e59b09a777a1"
      },
      "outputs": [
        {
          "data": {
            "text/plain": [
              "{1, 2, 3, 4, 45}"
            ]
          },
          "execution_count": 39,
          "metadata": {},
          "output_type": "execute_result"
        }
      ],
      "source": [
        "y.add(45)\n",
        "y"
      ]
    },
    {
      "cell_type": "code",
      "execution_count": null,
      "id": "cc89eb8b",
      "metadata": {
        "id": "cc89eb8b",
        "outputId": "f29fea6f-26cd-46c3-f7e8-f28d79344b76"
      },
      "outputs": [
        {
          "data": {
            "text/plain": [
              "{1, 2, 3, 4}"
            ]
          },
          "execution_count": 40,
          "metadata": {},
          "output_type": "execute_result"
        }
      ],
      "source": [
        "y.remove(45)\n",
        "y"
      ]
    },
    {
      "cell_type": "code",
      "execution_count": null,
      "id": "4c9f64f8",
      "metadata": {
        "id": "4c9f64f8",
        "outputId": "35d19711-83db-41ff-d246-d3984b102539"
      },
      "outputs": [
        {
          "data": {
            "text/plain": [
              "{2, 3, 4}"
            ]
          },
          "execution_count": 41,
          "metadata": {},
          "output_type": "execute_result"
        }
      ],
      "source": [
        "y.pop()\n",
        "y"
      ]
    },
    {
      "cell_type": "code",
      "execution_count": null,
      "id": "c4b43e66",
      "metadata": {
        "id": "c4b43e66",
        "outputId": "eac9c217-6efe-4890-c49a-04112fb384bb"
      },
      "outputs": [
        {
          "ename": "TypeError",
          "evalue": "set.pop() takes no arguments (1 given)",
          "output_type": "error",
          "traceback": [
            "\u001b[1;31m---------------------------------------------------------------------------\u001b[0m",
            "\u001b[1;31mTypeError\u001b[0m                                 Traceback (most recent call last)",
            "Cell \u001b[1;32mIn[42], line 1\u001b[0m\n\u001b[1;32m----> 1\u001b[0m y\u001b[38;5;241m.\u001b[39mpop(\u001b[38;5;241m1\u001b[39m)\n",
            "\u001b[1;31mTypeError\u001b[0m: set.pop() takes no arguments (1 given)"
          ]
        }
      ],
      "source": [
        "y.pop(1)"
      ]
    },
    {
      "cell_type": "code",
      "execution_count": null,
      "id": "3d199bdb",
      "metadata": {
        "id": "3d199bdb",
        "outputId": "e4d40880-fb2a-4ec2-a66c-64252ab45b3a"
      },
      "outputs": [
        {
          "name": "stdout",
          "output_type": "stream",
          "text": [
            "set()\n"
          ]
        }
      ],
      "source": [
        "y.clear()\n",
        "print(y)"
      ]
    },
    {
      "cell_type": "code",
      "execution_count": null,
      "id": "571f5969",
      "metadata": {
        "id": "571f5969",
        "outputId": "3b0cb275-ed91-4399-9bd5-ff4153b6df2f"
      },
      "outputs": [
        {
          "data": {
            "text/plain": [
              "[1, 2, 3, 4]"
            ]
          },
          "execution_count": 45,
          "metadata": {},
          "output_type": "execute_result"
        }
      ],
      "source": [
        "x=[1,2]\n",
        "y=[3,4]\n",
        "\n",
        "x+y"
      ]
    },
    {
      "cell_type": "code",
      "execution_count": null,
      "id": "2447838b",
      "metadata": {
        "id": "2447838b",
        "outputId": "c1ab41bd-0cfe-41be-8e31-1a82445beb97"
      },
      "outputs": [
        {
          "data": {
            "text/plain": [
              "(1, 2, 3, 4)"
            ]
          },
          "execution_count": 46,
          "metadata": {},
          "output_type": "execute_result"
        }
      ],
      "source": [
        "x=(1,2)\n",
        "y=(3,4)\n",
        "\n",
        "x+y"
      ]
    },
    {
      "cell_type": "code",
      "execution_count": null,
      "id": "f755b94d",
      "metadata": {
        "id": "f755b94d",
        "outputId": "2c015f4a-9e4a-420b-eef1-dc6c5fd03890"
      },
      "outputs": [
        {
          "ename": "TypeError",
          "evalue": "unsupported operand type(s) for +: 'set' and 'set'",
          "output_type": "error",
          "traceback": [
            "\u001b[1;31m---------------------------------------------------------------------------\u001b[0m",
            "\u001b[1;31mTypeError\u001b[0m                                 Traceback (most recent call last)",
            "Cell \u001b[1;32mIn[49], line 4\u001b[0m\n\u001b[0;32m      1\u001b[0m x\u001b[38;5;241m=\u001b[39m{\u001b[38;5;241m1\u001b[39m,\u001b[38;5;241m2\u001b[39m}\n\u001b[0;32m      2\u001b[0m y\u001b[38;5;241m=\u001b[39m{\u001b[38;5;241m3\u001b[39m,\u001b[38;5;241m4\u001b[39m}\n\u001b[1;32m----> 4\u001b[0m x\u001b[38;5;241m+\u001b[39my\n",
            "\u001b[1;31mTypeError\u001b[0m: unsupported operand type(s) for +: 'set' and 'set'"
          ]
        }
      ],
      "source": [
        "x={1,2}\n",
        "y={3,4}\n",
        "\n",
        "x+y"
      ]
    },
    {
      "cell_type": "code",
      "execution_count": null,
      "id": "daa38e68",
      "metadata": {
        "id": "daa38e68",
        "outputId": "58892858-c957-409d-c0a1-9413faf4861d"
      },
      "outputs": [
        {
          "data": {
            "text/plain": [
              "{1, 2, 3, 4}"
            ]
          },
          "execution_count": 51,
          "metadata": {},
          "output_type": "execute_result"
        }
      ],
      "source": [
        "x|y\n",
        "#or\n",
        "x.union(y)"
      ]
    },
    {
      "cell_type": "code",
      "execution_count": null,
      "id": "7fe19bfc",
      "metadata": {
        "id": "7fe19bfc",
        "outputId": "a43351ef-0a5e-4186-fc78-9bc6f07293ba"
      },
      "outputs": [
        {
          "data": {
            "text/plain": [
              "{3}"
            ]
          },
          "execution_count": 52,
          "metadata": {},
          "output_type": "execute_result"
        }
      ],
      "source": [
        "x={1,2,3}\n",
        "y={3,4}\n",
        "x.intersection(y)"
      ]
    },
    {
      "cell_type": "code",
      "execution_count": null,
      "id": "4967f0f3",
      "metadata": {
        "id": "4967f0f3",
        "outputId": "260f8f6a-58a2-4036-a6f5-eac45f7923b6"
      },
      "outputs": [
        {
          "data": {
            "text/plain": [
              "{1, 7}"
            ]
          },
          "execution_count": 53,
          "metadata": {},
          "output_type": "execute_result"
        }
      ],
      "source": [
        "x={1,2,2,3,4,5,6,7}\n",
        "y={2,3,6,5,4,2,0}\n",
        "\n",
        "x.difference(y)"
      ]
    },
    {
      "cell_type": "code",
      "execution_count": null,
      "id": "cefaea1a",
      "metadata": {
        "id": "cefaea1a",
        "outputId": "d22a1d14-0133-46fe-add4-7a3f3c07a8e8"
      },
      "outputs": [
        {
          "data": {
            "text/plain": [
              "{0, 1, 7}"
            ]
          },
          "execution_count": 54,
          "metadata": {},
          "output_type": "execute_result"
        }
      ],
      "source": [
        "x.symmetric_difference(y)"
      ]
    },
    {
      "cell_type": "code",
      "execution_count": null,
      "id": "a014748b",
      "metadata": {
        "id": "a014748b",
        "outputId": "efedd218-6d6b-4180-b5ed-2bc00486cf97"
      },
      "outputs": [
        {
          "name": "stdout",
          "output_type": "stream",
          "text": [
            "{1, 2, 3, 4, 5, 6, 7}\n"
          ]
        }
      ],
      "source": [
        "print(x)"
      ]
    },
    {
      "cell_type": "code",
      "execution_count": null,
      "id": "c1c46059",
      "metadata": {
        "id": "c1c46059",
        "outputId": "c395c774-1a28-4764-9d9d-f1c43d7523d4"
      },
      "outputs": [
        {
          "ename": "TypeError",
          "evalue": "'dict' object is not callable",
          "output_type": "error",
          "traceback": [
            "\u001b[1;31m---------------------------------------------------------------------------\u001b[0m",
            "\u001b[1;31mTypeError\u001b[0m                                 Traceback (most recent call last)",
            "Cell \u001b[1;32mIn[65], line 1\u001b[0m\n\u001b[1;32m----> 1\u001b[0m r\u001b[38;5;241m=\u001b[39m\u001b[38;5;28mset\u001b[39m()\n\u001b[0;32m      2\u001b[0m \u001b[38;5;28mprint\u001b[39m(\u001b[38;5;28mtype\u001b[39m(r))\n",
            "\u001b[1;31mTypeError\u001b[0m: 'dict' object is not callable"
          ]
        }
      ],
      "source": [
        "r=set()\n",
        "print(type(r))"
      ]
    },
    {
      "cell_type": "code",
      "execution_count": null,
      "id": "96a3b4ab",
      "metadata": {
        "id": "96a3b4ab",
        "outputId": "a712153d-fafa-46ce-eb42-737252ec536d"
      },
      "outputs": [
        {
          "data": {
            "text/plain": [
              "dict"
            ]
          },
          "execution_count": 55,
          "metadata": {},
          "output_type": "execute_result"
        }
      ],
      "source": [
        "set ={}\n",
        "type(set)"
      ]
    },
    {
      "cell_type": "code",
      "execution_count": null,
      "id": "fdde8725",
      "metadata": {
        "id": "fdde8725",
        "outputId": "b3cb4879-369d-4aa3-bb85-8a135b373ec6"
      },
      "outputs": [
        {
          "data": {
            "text/plain": [
              "{'key': 'value', 1: 88, 2: 342, 3: 3213, 55: 345}"
            ]
          },
          "execution_count": 69,
          "metadata": {},
          "output_type": "execute_result"
        }
      ],
      "source": [
        "x={'key':'value',1:88,2:342,3:3213,55:345}\n",
        "x"
      ]
    },
    {
      "cell_type": "code",
      "execution_count": null,
      "id": "bc4ef3f5",
      "metadata": {
        "id": "bc4ef3f5",
        "outputId": "3fd39baf-df0b-49d2-eacc-1774d95370ab"
      },
      "outputs": [
        {
          "data": {
            "text/plain": [
              "345"
            ]
          },
          "execution_count": 70,
          "metadata": {},
          "output_type": "execute_result"
        }
      ],
      "source": [
        "x[55]"
      ]
    },
    {
      "cell_type": "code",
      "execution_count": null,
      "id": "49113c5c",
      "metadata": {
        "id": "49113c5c",
        "outputId": "aa9bce8a-27b3-4d4a-a258-3dbeb39f3cd2"
      },
      "outputs": [
        {
          "ename": "TypeError",
          "evalue": "unhashable type: 'slice'",
          "output_type": "error",
          "traceback": [
            "\u001b[1;31m---------------------------------------------------------------------------\u001b[0m",
            "\u001b[1;31mTypeError\u001b[0m                                 Traceback (most recent call last)",
            "Cell \u001b[1;32mIn[71], line 1\u001b[0m\n\u001b[1;32m----> 1\u001b[0m x[\u001b[38;5;124m'\u001b[39m\u001b[38;5;124mkey\u001b[39m\u001b[38;5;124m'\u001b[39m:\u001b[38;5;241m3\u001b[39m]\n",
            "\u001b[1;31mTypeError\u001b[0m: unhashable type: 'slice'"
          ]
        }
      ],
      "source": [
        "x['key':3]"
      ]
    },
    {
      "cell_type": "code",
      "execution_count": null,
      "id": "c71dd0c3",
      "metadata": {
        "id": "c71dd0c3",
        "outputId": "83b17330-21a4-43f8-d23b-029420011d84"
      },
      "outputs": [
        {
          "data": {
            "text/plain": [
              "{'col1Name': [1, 2, 3, 4, 5], 'col2Name': [3432, 234, 435, 435, 566, 323]}"
            ]
          },
          "execution_count": 67,
          "metadata": {},
          "output_type": "execute_result"
        }
      ],
      "source": [
        "table={'col1Name':[1,2,3,4,5],'col2Name':[3432,234,435,435,566,323]}\n",
        "table"
      ]
    },
    {
      "cell_type": "code",
      "execution_count": null,
      "id": "5676030f",
      "metadata": {
        "id": "5676030f",
        "outputId": "b0b4b071-1f73-4a9a-d980-fa8777e99725"
      },
      "outputs": [
        {
          "data": {
            "text/plain": [
              "[3432, 234, 435, 435, 566, 323]"
            ]
          },
          "execution_count": 73,
          "metadata": {},
          "output_type": "execute_result"
        }
      ],
      "source": [
        "table['col2Name']"
      ]
    },
    {
      "cell_type": "code",
      "execution_count": null,
      "id": "bf7205a5",
      "metadata": {
        "id": "bf7205a5",
        "outputId": "8f4237c3-c1f5-4d9a-e6de-c63b63efe9c5"
      },
      "outputs": [
        {
          "data": {
            "text/plain": [
              "{1: 124}"
            ]
          },
          "execution_count": 75,
          "metadata": {},
          "output_type": "execute_result"
        }
      ],
      "source": [
        "x={1:123,1:124}\n",
        "x    #Keys can be duplicated but values can be overrided"
      ]
    },
    {
      "cell_type": "code",
      "execution_count": null,
      "id": "b11f229b",
      "metadata": {
        "id": "b11f229b",
        "outputId": "bdcc72c3-7349-42ba-9811-dad2be7bc353"
      },
      "outputs": [
        {
          "data": {
            "text/plain": [
              "{1: 124, 2: 3435}"
            ]
          },
          "execution_count": 76,
          "metadata": {},
          "output_type": "execute_result"
        }
      ],
      "source": [
        "#to add new key and value\n",
        "x[2]=3435\n",
        "x"
      ]
    },
    {
      "cell_type": "code",
      "execution_count": null,
      "id": "276b6e82",
      "metadata": {
        "id": "276b6e82",
        "outputId": "bf967331-2f0f-4a80-916b-ef56fc5c20de"
      },
      "outputs": [
        {
          "ename": "AttributeError",
          "evalue": "'dict' object has no attribute 'remove'",
          "output_type": "error",
          "traceback": [
            "\u001b[1;31m---------------------------------------------------------------------------\u001b[0m",
            "\u001b[1;31mAttributeError\u001b[0m                            Traceback (most recent call last)",
            "Cell \u001b[1;32mIn[77], line 1\u001b[0m\n\u001b[1;32m----> 1\u001b[0m x\u001b[38;5;241m.\u001b[39mremove()\n",
            "\u001b[1;31mAttributeError\u001b[0m: 'dict' object has no attribute 'remove'"
          ]
        }
      ],
      "source": [
        "x.remove()"
      ]
    },
    {
      "cell_type": "code",
      "execution_count": null,
      "id": "014f5693",
      "metadata": {
        "id": "014f5693",
        "outputId": "83b0365f-7156-4320-e111-a522f89d7c12"
      },
      "outputs": [
        {
          "data": {
            "text/plain": [
              "{1: 124}"
            ]
          },
          "execution_count": 78,
          "metadata": {},
          "output_type": "execute_result"
        }
      ],
      "source": [
        "x.pop(2)\n",
        "x"
      ]
    },
    {
      "cell_type": "code",
      "execution_count": null,
      "id": "d3c4d133",
      "metadata": {
        "id": "d3c4d133"
      },
      "outputs": [],
      "source": [
        "y={4:1324,7:2345,8:9876}"
      ]
    },
    {
      "cell_type": "code",
      "execution_count": null,
      "id": "7e61483a",
      "metadata": {
        "id": "7e61483a",
        "outputId": "b60bb917-1f59-4b95-d649-519b10d3962f"
      },
      "outputs": [
        {
          "data": {
            "text/plain": [
              "{1: 124, 4: 1324, 7: 2345, 8: 9876}"
            ]
          },
          "execution_count": 83,
          "metadata": {},
          "output_type": "execute_result"
        }
      ],
      "source": [
        "x.update(y)\n",
        "x"
      ]
    },
    {
      "cell_type": "code",
      "execution_count": null,
      "id": "0cb9b8e6",
      "metadata": {
        "id": "0cb9b8e6",
        "outputId": "05170618-71b8-4d1e-f5a2-6c377c90c820"
      },
      "outputs": [
        {
          "data": {
            "text/plain": [
              "dict_keys([1, 4, 7, 8])"
            ]
          },
          "execution_count": 84,
          "metadata": {},
          "output_type": "execute_result"
        }
      ],
      "source": [
        "x.keys() #To see every key existed in x"
      ]
    },
    {
      "cell_type": "code",
      "execution_count": null,
      "id": "8af26f08",
      "metadata": {
        "id": "8af26f08",
        "outputId": "95234619-22a8-49c9-a165-d7a70ea024a1"
      },
      "outputs": [
        {
          "data": {
            "text/plain": [
              "dict_values([124, 1324, 2345, 9876])"
            ]
          },
          "execution_count": 86,
          "metadata": {},
          "output_type": "execute_result"
        }
      ],
      "source": [
        "x.values()"
      ]
    },
    {
      "cell_type": "code",
      "execution_count": null,
      "id": "f7a479cd",
      "metadata": {
        "id": "f7a479cd",
        "outputId": "489f96c6-c088-4138-830c-de2a5137b79d"
      },
      "outputs": [
        {
          "data": {
            "text/plain": [
              "dict_items([(1, 124), (4, 1324), (7, 2345), (8, 9876)])"
            ]
          },
          "execution_count": 87,
          "metadata": {},
          "output_type": "execute_result"
        }
      ],
      "source": [
        "x.items()"
      ]
    },
    {
      "cell_type": "code",
      "execution_count": null,
      "id": "ff9a2db2",
      "metadata": {
        "id": "ff9a2db2",
        "outputId": "da9d2252-770f-4989-e92d-4657d8a108a8"
      },
      "outputs": [
        {
          "data": {
            "text/plain": [
              "dict"
            ]
          },
          "execution_count": 93,
          "metadata": {},
          "output_type": "execute_result"
        }
      ],
      "source": [
        "y={1:123,2:14132,3:1234}\n",
        "list(y)\n",
        "type(y)"
      ]
    },
    {
      "cell_type": "code",
      "execution_count": null,
      "id": "1a1ef359",
      "metadata": {
        "id": "1a1ef359",
        "outputId": "92035875-eb77-4f43-8dec-2c82e138b322"
      },
      "outputs": [
        {
          "data": {
            "text/plain": [
              "{1: 123, 88: 23452}"
            ]
          },
          "execution_count": 95,
          "metadata": {},
          "output_type": "execute_result"
        }
      ],
      "source": [
        "y=[(1,123),(88,23452)]\n",
        "dict(y)"
      ]
    },
    {
      "cell_type": "markdown",
      "id": "bfb3532c",
      "metadata": {
        "id": "bfb3532c"
      },
      "source": [
        "# Day-5\n",
        "- Operator"
      ]
    },
    {
      "cell_type": "code",
      "execution_count": null,
      "id": "a8de2c7f",
      "metadata": {
        "id": "a8de2c7f",
        "outputId": "ae73b5fb-6ad7-441f-9af5-b8a17b422b0a"
      },
      "outputs": [
        {
          "name": "stdout",
          "output_type": "stream",
          "text": [
            "16\n",
            "8\n",
            "48\n",
            "3.0\n",
            "3\n",
            "0\n",
            "20736\n"
          ]
        }
      ],
      "source": [
        "# Arithmatic Operators (+,-,*,/,//,%,**)\n",
        "\n",
        "\n",
        "a,b = 12,4\n",
        "\n",
        "print(a+b)\n",
        "print(a-b)\n",
        "print(a*b)\n",
        "print(a/b)    #division\n",
        "print(a//b)   #floor division\n",
        "print(a%b)    #reminder\n",
        "print(a**b)"
      ]
    },
    {
      "cell_type": "code",
      "execution_count": null,
      "id": "084debf7",
      "metadata": {
        "id": "084debf7",
        "outputId": "72d54dea-2576-4021-f5d6-d1a457763986"
      },
      "outputs": [
        {
          "data": {
            "text/plain": [
              "4"
            ]
          },
          "execution_count": 9,
          "metadata": {},
          "output_type": "execute_result"
        }
      ],
      "source": [
        "#Assignment Operator (=,+=,-=,*=,/=,//=,%=,**=)\n",
        "\n",
        "a=2\n",
        "a+=2\n",
        "a"
      ]
    },
    {
      "cell_type": "code",
      "execution_count": null,
      "id": "fd837a4b",
      "metadata": {
        "id": "fd837a4b",
        "outputId": "ad660647-3160-49ea-f6e7-b493e0ea5e4c"
      },
      "outputs": [
        {
          "name": "stdout",
          "output_type": "stream",
          "text": [
            "False\n",
            "True\n",
            "False\n",
            "True\n",
            "True\n",
            "False\n"
          ]
        }
      ],
      "source": [
        "#Comparative Operators (==,!=,>,<,<=,>=)\n",
        "\n",
        "a=33\n",
        "b=42\n",
        "\n",
        "print(a==b)\n",
        "print(a!=b)\n",
        "print(a>b)\n",
        "print(a<b)\n",
        "print(a<=b)\n",
        "print(a>=b)"
      ]
    },
    {
      "cell_type": "code",
      "execution_count": null,
      "id": "e5978767",
      "metadata": {
        "id": "e5978767",
        "outputId": "37fecf0b-4b89-45ec-a43a-33d3b724ccb6"
      },
      "outputs": [
        {
          "data": {
            "text/plain": [
              "True"
            ]
          },
          "execution_count": 13,
          "metadata": {},
          "output_type": "execute_result"
        }
      ],
      "source": [
        "#   (is,is not)\n",
        "\n",
        "a=250\n",
        "b=250\n",
        "\n",
        "a is b"
      ]
    },
    {
      "cell_type": "code",
      "execution_count": null,
      "id": "c7bfebcc",
      "metadata": {
        "id": "c7bfebcc",
        "outputId": "38b334b3-74e0-4ba8-a450-d8e01c29e05b"
      },
      "outputs": [
        {
          "data": {
            "text/plain": [
              "False"
            ]
          },
          "execution_count": 14,
          "metadata": {},
          "output_type": "execute_result"
        }
      ],
      "source": [
        "a=257\n",
        "b=257\n",
        "\n",
        "a is b"
      ]
    },
    {
      "cell_type": "code",
      "execution_count": null,
      "id": "ccc19587",
      "metadata": {
        "id": "ccc19587",
        "outputId": "2c927d9f-da31-41d6-e7d0-ebed2e2125a0"
      },
      "outputs": [
        {
          "data": {
            "text/plain": [
              "True"
            ]
          },
          "execution_count": 15,
          "metadata": {},
          "output_type": "execute_result"
        }
      ],
      "source": [
        "a=(1,2,3)\n",
        "b=(1,2,3)\n",
        "\n",
        "a == b"
      ]
    },
    {
      "cell_type": "code",
      "execution_count": null,
      "id": "c13c7c2a",
      "metadata": {
        "id": "c13c7c2a",
        "outputId": "9a0510ff-c3ff-4f13-b467-76434d07f2a3"
      },
      "outputs": [
        {
          "data": {
            "text/plain": [
              "False"
            ]
          },
          "execution_count": 16,
          "metadata": {},
          "output_type": "execute_result"
        }
      ],
      "source": [
        "a is b"
      ]
    },
    {
      "cell_type": "markdown",
      "id": "0e37ffc2",
      "metadata": {
        "id": "0e37ffc2"
      },
      "source": [
        "### Reasons\n",
        "- The variabes stores at different location and here (with is) it will try to compare between the variable\n",
        "- while == will compare the values"
      ]
    },
    {
      "cell_type": "code",
      "execution_count": null,
      "id": "f9e17c73",
      "metadata": {
        "id": "f9e17c73",
        "outputId": "18dcb35b-162b-4b92-df38-a6521661eeba"
      },
      "outputs": [
        {
          "data": {
            "text/plain": [
              "False"
            ]
          },
          "execution_count": 18,
          "metadata": {},
          "output_type": "execute_result"
        }
      ],
      "source": [
        "# Membership Operators (in, not in)\n",
        "\n",
        "a=[1,2,3]\n",
        "4 in a"
      ]
    },
    {
      "cell_type": "code",
      "execution_count": null,
      "id": "ba12ee3d",
      "metadata": {
        "id": "ba12ee3d",
        "outputId": "2237ab51-f4d5-49c5-c948-fa1ba3ea19b2"
      },
      "outputs": [
        {
          "data": {
            "text/plain": [
              "True"
            ]
          },
          "execution_count": 19,
          "metadata": {},
          "output_type": "execute_result"
        }
      ],
      "source": [
        "4 not in a"
      ]
    },
    {
      "cell_type": "code",
      "execution_count": null,
      "id": "5dce46bd",
      "metadata": {
        "id": "5dce46bd",
        "outputId": "18bdbf0f-988b-4afe-9ecd-9d576e59e5d1"
      },
      "outputs": [
        {
          "name": "stdout",
          "output_type": "stream",
          "text": [
            "True\n",
            "False\n",
            "False\n",
            "False\n"
          ]
        }
      ],
      "source": [
        "# Logical Operators (and,or)\n",
        "\n",
        "print(True and True)\n",
        "print(False and False)\n",
        "print(False and True)\n",
        "print(True and False)"
      ]
    },
    {
      "cell_type": "code",
      "execution_count": null,
      "id": "de649c21",
      "metadata": {
        "id": "de649c21",
        "outputId": "a2a23819-7eb7-43d9-dca3-1da3faff643d"
      },
      "outputs": [
        {
          "name": "stdout",
          "output_type": "stream",
          "text": [
            "True\n",
            "False\n",
            "True\n",
            "True\n"
          ]
        }
      ],
      "source": [
        "print(True or True)\n",
        "print(False or False)\n",
        "print(False or True)\n",
        "print(True or False)"
      ]
    },
    {
      "cell_type": "code",
      "execution_count": null,
      "id": "aa6d5f3a",
      "metadata": {
        "id": "aa6d5f3a",
        "outputId": "44516a4b-2c4e-4a84-df11-f9b3e0d35104"
      },
      "outputs": [
        {
          "data": {
            "text/plain": [
              "True"
            ]
          },
          "execution_count": 24,
          "metadata": {},
          "output_type": "execute_result"
        }
      ],
      "source": [
        "not (True and False)"
      ]
    },
    {
      "cell_type": "code",
      "execution_count": null,
      "id": "d5d92db5",
      "metadata": {
        "id": "d5d92db5"
      },
      "outputs": [],
      "source": [
        "#Bitwise Operators (&[and],|[or],^[Xor],~[not],<<[left shift],>>[right shift])\n",
        "\n"
      ]
    },
    {
      "cell_type": "markdown",
      "id": "f7d05311",
      "metadata": {
        "id": "f7d05311"
      },
      "source": [
        "## Control Flow Statements"
      ]
    },
    {
      "cell_type": "code",
      "execution_count": null,
      "id": "c887201f",
      "metadata": {
        "id": "c887201f",
        "outputId": "1f1994b8-0320-4b98-b492-eee66ea48fdc"
      },
      "outputs": [
        {
          "name": "stdout",
          "output_type": "stream",
          "text": [
            "a is negative\n"
          ]
        }
      ],
      "source": [
        "a=0\n",
        "\n",
        "if a<0:\n",
        "    print('a is negative')\n",
        "elif a==0:\n",
        "    print('a is zero')\n",
        "else:\n",
        "    print('a is positive')\n",
        "\n"
      ]
    },
    {
      "cell_type": "code",
      "execution_count": null,
      "id": "eb792561",
      "metadata": {
        "id": "eb792561",
        "outputId": "1fbde7bd-f99b-406a-cce5-e1e09fbc04e9"
      },
      "outputs": [
        {
          "name": "stdout",
          "output_type": "stream",
          "text": [
            "a is small\n"
          ]
        }
      ],
      "source": [
        "a,b,c=1,10,8\n",
        "\n",
        "if a<b and a<c:\n",
        "    print('a is small')\n",
        "elif b<a and b<c:\n",
        "    print('b is small')\n",
        "else:\n",
        "    print('c is small')"
      ]
    },
    {
      "cell_type": "code",
      "execution_count": null,
      "id": "c5a8e258",
      "metadata": {
        "id": "c5a8e258",
        "outputId": "6a7c0a7a-e198-481d-bfec-900acd6cfc44"
      },
      "outputs": [
        {
          "name": "stdout",
          "output_type": "stream",
          "text": [
            "not a leap year\n"
          ]
        }
      ],
      "source": [
        "year = 2003\n",
        "\n",
        "if (year%4 ==0 and year%4 !=100) or (year%400 ==0):\n",
        "    print('Its a leap year')\n",
        "else:\n",
        "    print('not a leap year')"
      ]
    },
    {
      "cell_type": "code",
      "execution_count": null,
      "id": "0cc8fc38",
      "metadata": {
        "id": "0cc8fc38"
      },
      "outputs": [],
      "source": [
        "#not using or\n",
        "\n",
        "year = 2003\n",
        "\n",
        "if (year%400 ==0):\n",
        "    print('Its a leap year')\n",
        "elif (year%4 ==0 and year%4 !=100):\n",
        "    print('Its a leap year')\n",
        "else:\n",
        "    print('not a leap year')"
      ]
    },
    {
      "cell_type": "code",
      "execution_count": null,
      "id": "fdaa3903",
      "metadata": {
        "id": "fdaa3903",
        "outputId": "cf282e55-7a91-4e28-b8c4-ba0730be843b"
      },
      "outputs": [
        {
          "name": "stdout",
          "output_type": "stream",
          "text": [
            "Its not a leap year with 100\n"
          ]
        }
      ],
      "source": [
        "#not using or,and\n",
        "\n",
        "year = 1400\n",
        "\n",
        "if (year%400 ==0):\n",
        "    print('Its a leap year')\n",
        "elif (year%4 ==0):\n",
        "    if (year%100 != 0):\n",
        "        print('Its a leap year with 100')\n",
        "    else:\n",
        "        print('Its not a leap year with 100')\n",
        "else:\n",
        "    print('not a leap year')"
      ]
    },
    {
      "cell_type": "code",
      "execution_count": null,
      "id": "133da575",
      "metadata": {
        "id": "133da575"
      },
      "outputs": [],
      "source": [
        "a=int(input())\n",
        "\n",
        "if (a%2 ==0):\n",
        "    print('divide by 2')\n",
        "elif (a%2 !=0):\n",
        "    print('not divide by 2')"
      ]
    },
    {
      "cell_type": "markdown",
      "id": "38dce824",
      "metadata": {
        "id": "38dce824"
      },
      "source": [
        "# Day-6"
      ]
    },
    {
      "cell_type": "code",
      "execution_count": null,
      "id": "fe64968f",
      "metadata": {
        "id": "fe64968f",
        "outputId": "dbfb5757-b221-4ee7-a9c1-312e14b7f84d"
      },
      "outputs": [
        {
          "name": "stdout",
          "output_type": "stream",
          "text": [
            "9\n",
            "8\n",
            "7\n",
            "6\n",
            "5\n",
            "4\n",
            "3\n",
            "2\n",
            "1\n",
            "0\n"
          ]
        }
      ],
      "source": [
        "a=10\n",
        "while a>=1:\n",
        "    a-=1\n",
        "    print(a)"
      ]
    },
    {
      "cell_type": "code",
      "execution_count": null,
      "id": "fd5b5daf",
      "metadata": {
        "id": "fd5b5daf",
        "outputId": "766d9e67-fa61-4e3a-a388-3a2fccbf54cb"
      },
      "outputs": [
        {
          "name": "stdout",
          "output_type": "stream",
          "text": [
            "10\n",
            "10\n",
            "10\n",
            "10\n",
            "10\n",
            "10\n",
            "10\n",
            "10\n",
            "10\n",
            "10\n"
          ]
        }
      ],
      "source": [
        "#Loops like for & while are used to run code nth times\n",
        "\n",
        "a=0\n",
        "while a<10:\n",
        "    print(10)\n",
        "    a+=1"
      ]
    },
    {
      "cell_type": "code",
      "execution_count": null,
      "id": "0dbeaccc",
      "metadata": {
        "id": "0dbeaccc",
        "outputId": "db0225ef-a517-4ef1-c1f6-9da4b4fca560"
      },
      "outputs": [
        {
          "name": "stdout",
          "output_type": "stream",
          "text": [
            "2\n",
            "4\n",
            "6\n",
            "8\n",
            "10\n",
            "12\n",
            "14\n",
            "16\n",
            "18\n",
            "20\n",
            "22\n",
            "24\n",
            "26\n",
            "28\n",
            "30\n",
            "32\n",
            "34\n",
            "36\n",
            "38\n",
            "40\n",
            "42\n",
            "44\n",
            "46\n",
            "48\n",
            "50\n"
          ]
        }
      ],
      "source": [
        "num =0\n",
        "\n",
        "while num<50:\n",
        "    num+=2\n",
        "    print(num)"
      ]
    },
    {
      "cell_type": "code",
      "execution_count": null,
      "id": "e65291e0",
      "metadata": {
        "id": "e65291e0",
        "outputId": "7d7cb196-779a-4dcc-de3b-033fd32736b9"
      },
      "outputs": [
        {
          "name": "stdout",
          "output_type": "stream",
          "text": [
            "2,4,6,8,10,12,14,16,18,20,22,24,26,28,30,32,34,36,38,40,42,44,46,48,50,"
          ]
        }
      ],
      "source": [
        "num =0\n",
        "\n",
        "while num<50:\n",
        "    num+=2\n",
        "    print(num,end=',')"
      ]
    },
    {
      "cell_type": "code",
      "execution_count": null,
      "id": "86796566",
      "metadata": {
        "id": "86796566",
        "outputId": "eabc4763-c84a-4ba4-cf17-81e7b16bca27"
      },
      "outputs": [
        {
          "name": "stdout",
          "output_type": "stream",
          "text": [
            "2,4,6,8,10,12,14,16,18,20,22,24,26,28,30,32,34,36,38,40,42,44,46,48,"
          ]
        }
      ],
      "source": [
        "num =1\n",
        "\n",
        "while num<=70:\n",
        "    if num%2==0:\n",
        "        print(num,end=',')\n",
        "    num+=1\n",
        "    if num==50:\n",
        "        break"
      ]
    },
    {
      "cell_type": "code",
      "execution_count": 4,
      "id": "bdd181af",
      "metadata": {
        "id": "bdd181af"
      },
      "outputs": [],
      "source": [
        "#Game\n",
        "\n",
        "import random\n",
        "\n",
        "x= random.randint(1,10)"
      ]
    },
    {
      "cell_type": "code",
      "execution_count": null,
      "id": "c818393b",
      "metadata": {
        "id": "c818393b",
        "outputId": "c82cda72-54fd-4c25-bf0c-1b80eb61346a"
      },
      "outputs": [
        {
          "name": "stdout",
          "output_type": "stream",
          "text": [
            "enter your answer\n",
            "not correct ans\n",
            "enter your answer\n",
            "not correct ans\n",
            "enter your answer\n",
            "not correct ans\n",
            "enter your answer\n",
            "not correct ans\n",
            "enter your answer\n",
            "not correct ans\n",
            "enter your answer\n",
            "not correct ans\n",
            "enter your answer\n",
            "not correct ans\n",
            "enter your answer\n",
            "not correct ans\n",
            "enter your answer\n",
            "not correct ans\n",
            "enter your answer\n",
            "not correct ans\n",
            "enter your answer\n",
            "not correct ans\n",
            "enter your answer\n",
            "not correct ans\n",
            "enter your answer\n",
            "correct answer\n"
          ]
        }
      ],
      "source": [
        "chance=5\n",
        "while None!=0:\n",
        "    a=int(input(print('enter your answer')))\n",
        "    if a==x:\n",
        "        print(\"correct answer\")\n",
        "        break\n",
        "    else:\n",
        "        print('not correct ans')"
      ]
    },
    {
      "cell_type": "code",
      "execution_count": null,
      "id": "32d42704",
      "metadata": {
        "id": "32d42704",
        "outputId": "f7d6af4b-42ba-413c-c89b-49fc0b170145"
      },
      "outputs": [
        {
          "name": "stdout",
          "output_type": "stream",
          "text": [
            "1\n",
            "2\n",
            "3\n",
            "4\n",
            "5\n",
            "6\n",
            "7\n",
            "8\n",
            "9\n",
            "10\n"
          ]
        }
      ],
      "source": [
        "for i in range(1,11):\n",
        "    print(i)"
      ]
    },
    {
      "cell_type": "code",
      "execution_count": null,
      "id": "b754d68e",
      "metadata": {
        "id": "b754d68e",
        "outputId": "1e5dc34f-b4b9-4a23-a69a-6901f0fa2e06"
      },
      "outputs": [
        {
          "name": "stdout",
          "output_type": "stream",
          "text": [
            "0\n",
            "5\n",
            "10\n",
            "15\n",
            "20\n",
            "25\n",
            "30\n",
            "35\n",
            "40\n",
            "45\n",
            "50\n",
            "55\n",
            "60\n",
            "65\n",
            "70\n",
            "75\n",
            "80\n",
            "85\n",
            "90\n",
            "95\n"
          ]
        }
      ],
      "source": [
        "for var in range(0,100,5):\n",
        "    print(var)"
      ]
    },
    {
      "cell_type": "code",
      "execution_count": null,
      "id": "8c7c36ea",
      "metadata": {
        "id": "8c7c36ea",
        "outputId": "a7b20977-4bdd-455a-980e-908ab963a984"
      },
      "outputs": [
        {
          "name": "stdout",
          "output_type": "stream",
          "text": [
            "a\n",
            "b\n",
            "c\n",
            "d\n"
          ]
        }
      ],
      "source": [
        "x='abcd'\n",
        "\n",
        "for a in x:\n",
        "    print(a)"
      ]
    },
    {
      "cell_type": "code",
      "execution_count": null,
      "id": "ffbccd90",
      "metadata": {
        "id": "ffbccd90",
        "outputId": "36d0c1d0-a0b1-4c4b-8560-44b27d108d01"
      },
      "outputs": [
        {
          "name": "stdout",
          "output_type": "stream",
          "text": [
            "b:98\n",
            "a:97\n",
            "n:110\n",
            "g:103\n",
            "a:97\n",
            "l:108\n",
            "o:111\n",
            "r:114\n",
            "e:101\n",
            "['b', 'a', 'n', 'g', 'a', 'l', 'o', 'r', 'e']\n",
            "[98, 97, 110, 103, 97, 108, 111, 114, 101]\n"
          ]
        }
      ],
      "source": [
        "a = \"bangalore\"\n",
        "name=[]\n",
        "list=[]\n",
        "\n",
        "for i in a:\n",
        "    print(f'{i}:{ord(i)}')\n",
        "    name.append(i)\n",
        "    list.append(ord(i))\n",
        "\n",
        "print(name)\n",
        "print(list)\n",
        ""
      ]
    },
    {
      "cell_type": "code",
      "execution_count": null,
      "id": "0be1f16a",
      "metadata": {
        "id": "0be1f16a",
        "outputId": "1675c8f3-a1d7-4e15-9fda-167281e193f0"
      },
      "outputs": [
        {
          "name": "stdout",
          "output_type": "stream",
          "text": [
            "5x1=5\n",
            "5x2=10\n",
            "5x3=15\n",
            "5x4=20\n",
            "5x5=25\n",
            "5x6=30\n",
            "5x7=35\n",
            "5x8=40\n",
            "5x9=45\n",
            "5x10=50\n"
          ]
        }
      ],
      "source": [
        "for i in range(0,10):\n",
        "    print(f'5x{i+1}={5*(i+1)}')"
      ]
    },
    {
      "cell_type": "code",
      "execution_count": null,
      "id": "aaa4563c",
      "metadata": {
        "id": "aaa4563c",
        "outputId": "46c2629e-17b4-4a23-8c62-9102fdab7c9c"
      },
      "outputs": [
        {
          "name": "stdout",
          "output_type": "stream",
          "text": [
            "15\n"
          ]
        }
      ],
      "source": [
        "sum=0\n",
        "\n",
        "for i in range(1,6):\n",
        "    sum+=i\n",
        "\n",
        "print(sum)"
      ]
    },
    {
      "cell_type": "code",
      "source": [
        "\n",
        "while None!=0:\n",
        "  for i in range(5):\n",
        "    a=int(input('enter your answer'))\n",
        "    if a==x:\n",
        "        print(\"correct answer\")\n",
        "        break\n",
        "    else:\n",
        "        print('not correct ans')\n",
        "        print(f'You have {i} chance left2')"
      ],
      "metadata": {
        "colab": {
          "base_uri": "https://localhost:8080/",
          "height": 773
        },
        "id": "ICDAuTFCzXPk",
        "outputId": "5fe9c8ed-cb7a-41f0-ccdc-1c2413fb567a"
      },
      "id": "ICDAuTFCzXPk",
      "execution_count": 5,
      "outputs": [
        {
          "output_type": "stream",
          "name": "stdout",
          "text": [
            "enter your answer\n",
            "None1\n",
            "not correct ans\n",
            "You have 0 chance left2\n",
            "enter your answer\n",
            "None2\n",
            "not correct ans\n",
            "You have 1 chance left2\n",
            "enter your answer\n",
            "None3\n",
            "not correct ans\n",
            "You have 2 chance left2\n",
            "enter your answer\n",
            "None4\n",
            "not correct ans\n",
            "You have 3 chance left2\n",
            "enter your answer\n",
            "None5\n",
            "not correct ans\n",
            "You have 4 chance left2\n",
            "enter your answer\n",
            "None6\n",
            "correct answer\n",
            "enter your answer\n"
          ]
        },
        {
          "output_type": "error",
          "ename": "KeyboardInterrupt",
          "evalue": "Interrupted by user",
          "traceback": [
            "\u001b[0;31m---------------------------------------------------------------------------\u001b[0m",
            "\u001b[0;31mKeyboardInterrupt\u001b[0m                         Traceback (most recent call last)",
            "\u001b[0;32m/tmp/ipython-input-1171920589.py\u001b[0m in \u001b[0;36m<cell line: 0>\u001b[0;34m()\u001b[0m\n\u001b[1;32m      1\u001b[0m \u001b[0;32mwhile\u001b[0m \u001b[0;32mNone\u001b[0m\u001b[0;34m!=\u001b[0m\u001b[0;36m0\u001b[0m\u001b[0;34m:\u001b[0m\u001b[0;34m\u001b[0m\u001b[0;34m\u001b[0m\u001b[0m\n\u001b[1;32m      2\u001b[0m   \u001b[0;32mfor\u001b[0m \u001b[0mi\u001b[0m \u001b[0;32min\u001b[0m \u001b[0mrange\u001b[0m\u001b[0;34m(\u001b[0m\u001b[0;36m5\u001b[0m\u001b[0;34m)\u001b[0m\u001b[0;34m:\u001b[0m\u001b[0;34m\u001b[0m\u001b[0;34m\u001b[0m\u001b[0m\n\u001b[0;32m----> 3\u001b[0;31m     \u001b[0ma\u001b[0m\u001b[0;34m=\u001b[0m\u001b[0mint\u001b[0m\u001b[0;34m(\u001b[0m\u001b[0minput\u001b[0m\u001b[0;34m(\u001b[0m\u001b[0mprint\u001b[0m\u001b[0;34m(\u001b[0m\u001b[0;34m'enter your answer'\u001b[0m\u001b[0;34m)\u001b[0m\u001b[0;34m)\u001b[0m\u001b[0;34m)\u001b[0m\u001b[0;34m\u001b[0m\u001b[0;34m\u001b[0m\u001b[0m\n\u001b[0m\u001b[1;32m      4\u001b[0m     \u001b[0;32mif\u001b[0m \u001b[0ma\u001b[0m\u001b[0;34m==\u001b[0m\u001b[0mx\u001b[0m\u001b[0;34m:\u001b[0m\u001b[0;34m\u001b[0m\u001b[0;34m\u001b[0m\u001b[0m\n\u001b[1;32m      5\u001b[0m         \u001b[0mprint\u001b[0m\u001b[0;34m(\u001b[0m\u001b[0;34m\"correct answer\"\u001b[0m\u001b[0;34m)\u001b[0m\u001b[0;34m\u001b[0m\u001b[0;34m\u001b[0m\u001b[0m\n",
            "\u001b[0;32m/usr/local/lib/python3.12/dist-packages/ipykernel/kernelbase.py\u001b[0m in \u001b[0;36mraw_input\u001b[0;34m(self, prompt)\u001b[0m\n\u001b[1;32m   1175\u001b[0m                 \u001b[0;34m\"raw_input was called, but this frontend does not support input requests.\"\u001b[0m\u001b[0;34m\u001b[0m\u001b[0;34m\u001b[0m\u001b[0m\n\u001b[1;32m   1176\u001b[0m             )\n\u001b[0;32m-> 1177\u001b[0;31m         return self._input_request(\n\u001b[0m\u001b[1;32m   1178\u001b[0m             \u001b[0mstr\u001b[0m\u001b[0;34m(\u001b[0m\u001b[0mprompt\u001b[0m\u001b[0;34m)\u001b[0m\u001b[0;34m,\u001b[0m\u001b[0;34m\u001b[0m\u001b[0;34m\u001b[0m\u001b[0m\n\u001b[1;32m   1179\u001b[0m             \u001b[0mself\u001b[0m\u001b[0;34m.\u001b[0m\u001b[0m_parent_ident\u001b[0m\u001b[0;34m[\u001b[0m\u001b[0;34m\"shell\"\u001b[0m\u001b[0;34m]\u001b[0m\u001b[0;34m,\u001b[0m\u001b[0;34m\u001b[0m\u001b[0;34m\u001b[0m\u001b[0m\n",
            "\u001b[0;32m/usr/local/lib/python3.12/dist-packages/ipykernel/kernelbase.py\u001b[0m in \u001b[0;36m_input_request\u001b[0;34m(self, prompt, ident, parent, password)\u001b[0m\n\u001b[1;32m   1217\u001b[0m             \u001b[0;32mexcept\u001b[0m \u001b[0mKeyboardInterrupt\u001b[0m\u001b[0;34m:\u001b[0m\u001b[0;34m\u001b[0m\u001b[0;34m\u001b[0m\u001b[0m\n\u001b[1;32m   1218\u001b[0m                 \u001b[0;31m# re-raise KeyboardInterrupt, to truncate traceback\u001b[0m\u001b[0;34m\u001b[0m\u001b[0;34m\u001b[0m\u001b[0m\n\u001b[0;32m-> 1219\u001b[0;31m                 \u001b[0;32mraise\u001b[0m \u001b[0mKeyboardInterrupt\u001b[0m\u001b[0;34m(\u001b[0m\u001b[0;34m\"Interrupted by user\"\u001b[0m\u001b[0;34m)\u001b[0m \u001b[0;32mfrom\u001b[0m \u001b[0;32mNone\u001b[0m\u001b[0;34m\u001b[0m\u001b[0;34m\u001b[0m\u001b[0m\n\u001b[0m\u001b[1;32m   1220\u001b[0m             \u001b[0;32mexcept\u001b[0m \u001b[0mException\u001b[0m\u001b[0;34m:\u001b[0m\u001b[0;34m\u001b[0m\u001b[0;34m\u001b[0m\u001b[0m\n\u001b[1;32m   1221\u001b[0m                 \u001b[0mself\u001b[0m\u001b[0;34m.\u001b[0m\u001b[0mlog\u001b[0m\u001b[0;34m.\u001b[0m\u001b[0mwarning\u001b[0m\u001b[0;34m(\u001b[0m\u001b[0;34m\"Invalid Message:\"\u001b[0m\u001b[0;34m,\u001b[0m \u001b[0mexc_info\u001b[0m\u001b[0;34m=\u001b[0m\u001b[0;32mTrue\u001b[0m\u001b[0;34m)\u001b[0m\u001b[0;34m\u001b[0m\u001b[0;34m\u001b[0m\u001b[0m\n",
            "\u001b[0;31mKeyboardInterrupt\u001b[0m: Interrupted by user"
          ]
        }
      ]
    },
    {
      "cell_type": "code",
      "execution_count": null,
      "id": "346ba0a7",
      "metadata": {
        "id": "346ba0a7"
      },
      "outputs": [],
      "source": [
        "# print sum of n numbers with (for , while)\n",
        "# factorial of number 3 3!=1*2*3"
      ]
    },
    {
      "cell_type": "markdown",
      "id": "066e35a0",
      "metadata": {
        "id": "066e35a0"
      },
      "source": [
        "# Day-7"
      ]
    },
    {
      "cell_type": "code",
      "execution_count": 1,
      "id": "83c4e090",
      "metadata": {
        "colab": {
          "base_uri": "https://localhost:8080/"
        },
        "id": "83c4e090",
        "outputId": "ea809415-6ff7-4a47-e188-d22b9dcd1e4e"
      },
      "outputs": [
        {
          "output_type": "stream",
          "name": "stdout",
          "text": [
            "[1, 2, 3, 4, 5, 6, 7, 8, 9, 10, 11, 12, 13, 14, 15, 16, 17, 18, 19, 20, 21, 22, 23, 24, 25, 26, 27, 28, 29, 30, 31, 32, 33, 34, 35, 36, 37, 38, 39, 40, 41, 42, 43, 44, 45, 46, 47, 48, 49, 50]\n"
          ]
        }
      ],
      "source": [
        "x=[]\n",
        "for i in range(1,51):\n",
        "  x.append(i)\n",
        "\n",
        "print(x)"
      ]
    },
    {
      "cell_type": "code",
      "source": [
        "for i in range(5):\n",
        "  print(i)"
      ],
      "metadata": {
        "colab": {
          "base_uri": "https://localhost:8080/"
        },
        "id": "c8-_FUI-zqCR",
        "outputId": "e03c41cc-0b7a-43b5-c19b-f40447896b30"
      },
      "id": "c8-_FUI-zqCR",
      "execution_count": 2,
      "outputs": [
        {
          "output_type": "stream",
          "name": "stdout",
          "text": [
            "0\n",
            "1\n",
            "2\n",
            "3\n",
            "4\n"
          ]
        }
      ]
    },
    {
      "cell_type": "code",
      "source": [
        "x=[1,2,3,4,5,6]"
      ],
      "metadata": {
        "id": "noKotEo0ztaM"
      },
      "id": "noKotEo0ztaM",
      "execution_count": null,
      "outputs": []
    },
    {
      "cell_type": "code",
      "source": [
        "#check if its palindrome\n",
        "\n",
        "i = str(input(\"Enter any number to check palindorame:\")).lower();\n",
        "\n",
        "if i==i[::-1]:\n",
        "  print(\"it is a palindrome\")\n",
        "else:\n",
        "  print(\"its not palindrome\")\n",
        "\n"
      ],
      "metadata": {
        "colab": {
          "base_uri": "https://localhost:8080/"
        },
        "id": "SohNNb1o0pKV",
        "outputId": "05db3d8b-992a-44de-a376-601f3e4633f4"
      },
      "id": "SohNNb1o0pKV",
      "execution_count": 9,
      "outputs": [
        {
          "output_type": "stream",
          "name": "stdout",
          "text": [
            "Enter any number to check palindorame:sdf\n",
            "its not palindrome\n"
          ]
        }
      ]
    },
    {
      "cell_type": "code",
      "source": [
        "#123\n",
        "\n",
        "\n",
        "num = int(input(\"Enter the number:\"))\n",
        "list=[]\n",
        "\n",
        "\n",
        "for i in str(num):\n",
        "  list.append(int(i)**len(str(num)))\n",
        "\n",
        "\n",
        "sum(list)\n",
        "\n",
        "if num==sum(list):\n",
        "  print('armstrong number')\n",
        "else:\n",
        "  print(\"not armstrong number\")"
      ],
      "metadata": {
        "colab": {
          "base_uri": "https://localhost:8080/"
        },
        "id": "FH8uapgW1F7L",
        "outputId": "b09aa07d-a27c-482e-f965-6d4bb08c226c"
      },
      "id": "FH8uapgW1F7L",
      "execution_count": 22,
      "outputs": [
        {
          "output_type": "stream",
          "name": "stdout",
          "text": [
            "Enter the number:407\n",
            "armstrong number\n"
          ]
        }
      ]
    },
    {
      "cell_type": "code",
      "source": [
        "# function\n",
        "\n",
        "\n",
        "def armstrong():\n",
        "  num = int(input(\"Enter the number:\"))\n",
        "  list=[]\n",
        "\n",
        "\n",
        "  for i in str(num):\n",
        "    list.append(int(i)**len(str(num)))\n",
        "\n",
        "\n",
        "  sum(list)\n",
        "\n",
        "  if num==sum(list):\n",
        "    print('armstrong number')\n",
        "  else:\n",
        "    print(\"not armstrong number\")"
      ],
      "metadata": {
        "id": "S7v2wUi9_kNx"
      },
      "id": "S7v2wUi9_kNx",
      "execution_count": 28,
      "outputs": []
    },
    {
      "cell_type": "code",
      "source": [
        "armstrong()"
      ],
      "metadata": {
        "colab": {
          "base_uri": "https://localhost:8080/"
        },
        "id": "j6BfSaIaAbAP",
        "outputId": "5e4b66ba-640e-42ca-9681-6ba004aa57fd"
      },
      "id": "j6BfSaIaAbAP",
      "execution_count": 30,
      "outputs": [
        {
          "output_type": "stream",
          "name": "stdout",
          "text": [
            "Enter the number:5474\n",
            "not armstrong number\n"
          ]
        }
      ]
    },
    {
      "cell_type": "code",
      "source": [
        "a= int(input(\"enter the first number:\"))\n",
        "b= int(input(\"enter the second number:\"))\n",
        "\n",
        "def add(a,b):\n",
        "  print(a+b)\n",
        "\n",
        "add(a,b)"
      ],
      "metadata": {
        "colab": {
          "base_uri": "https://localhost:8080/"
        },
        "id": "nuHRU0E_B1Ba",
        "outputId": "ef21e8f6-ea4e-4c93-a483-c27ce690bdb2"
      },
      "id": "nuHRU0E_B1Ba",
      "execution_count": 26,
      "outputs": [
        {
          "output_type": "stream",
          "name": "stdout",
          "text": [
            "enter the first number:5\n",
            "enter the second number:4\n",
            "9\n"
          ]
        }
      ]
    },
    {
      "cell_type": "code",
      "source": [
        "def sum_n():\n",
        "  x= int(input(\"enter the number:\"))\n",
        "  sum=0\n",
        "  for i in range(x+1):\n",
        "    sum+=i\n",
        "\n",
        "  print(sum)"
      ],
      "metadata": {
        "id": "XXk_xbVUEHr7"
      },
      "id": "XXk_xbVUEHr7",
      "execution_count": 38,
      "outputs": []
    },
    {
      "cell_type": "code",
      "source": [
        "sum_n()"
      ],
      "metadata": {
        "colab": {
          "base_uri": "https://localhost:8080/"
        },
        "id": "j7OB8WCLEcXb",
        "outputId": "e80e6fde-5ae5-42eb-a6ac-865f061e00fd"
      },
      "id": "j7OB8WCLEcXb",
      "execution_count": 39,
      "outputs": [
        {
          "output_type": "stream",
          "name": "stdout",
          "text": [
            "enter the number:5\n",
            "0\n",
            "1\n",
            "2\n",
            "3\n",
            "4\n",
            "5\n",
            "15\n"
          ]
        }
      ]
    }
  ],
  "metadata": {
    "kernelspec": {
      "display_name": "base",
      "language": "python",
      "name": "python3"
    },
    "language_info": {
      "codemirror_mode": {
        "name": "ipython",
        "version": 3
      },
      "file_extension": ".py",
      "mimetype": "text/x-python",
      "name": "python",
      "nbconvert_exporter": "python",
      "pygments_lexer": "ipython3",
      "version": "3.11.7"
    },
    "colab": {
      "provenance": []
    }
  },
  "nbformat": 4,
  "nbformat_minor": 5
}